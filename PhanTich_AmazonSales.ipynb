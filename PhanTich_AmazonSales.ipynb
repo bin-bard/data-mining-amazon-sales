{
 "cells": [
  {
   "cell_type": "markdown",
   "id": "3c0fdc8a",
   "metadata": {},
   "source": [
    "## Mục Đích Phân Cụm và Câu Hỏi Nghiên Cứu\n",
    "\n",
    "**Mục tiêu chính:** Xác định và phân tích các phân khúc sản phẩm trên Amazon dựa trên mối quan hệ giữa các yếu tố: đặc tính/tính năng mô tả của sản phẩm, giá bán và đánh giá từ người dùng. Qua đó, tìm hiểu xem các sản phẩm đang được định vị như thế nào trên thị trường về mặt \"giá trị\" và \"chất lượng\".\n",
    "\n",
    "**Tại sao chọn các thuộc tính này?**\n",
    "\n",
    "* **`about_product` (Mô tả sản phẩm - Dữ liệu Văn bản):**\n",
    "    * **Đóng góp:** Cung cấp thông tin chi tiết về các tính năng, lợi ích, công dụng, và đặc điểm kỹ thuật của sản phẩm. Đây là yếu tố then chốt để hiểu được \"giá trị nội tại\" hoặc \"chất lượng được quảng bá\" của sản phẩm.\n",
    "    * **Vai trò trong phân cụm:** Giúp nhóm các sản phẩm có bộ tính năng tương tự hoặc hướng đến cùng một nhu cầu sử dụng.\n",
    "\n",
    "* **`discounted_price` / `actual_price` (Giá sản phẩm - Dữ liệu Số):**\n",
    "    * **Đóng góp:** Phản ánh chi phí mà người tiêu dùng phải bỏ ra để sở hữu sản phẩm.\n",
    "    * **Vai trò trong phân cụm:** Là một trục quan trọng để so sánh \"giá trị nhận được\" so với \"chi phí bỏ ra\".\n",
    "\n",
    "* **`rating` (Đánh giá trung bình - Dữ liệu Số):**\n",
    "    * **Đóng góp:** Thể hiện mức độ hài lòng của khách hàng đã sử dụng sản phẩm, một thước đo quan trọng về \"chất lượng cảm nhận\" hoặc \"chất lượng thực tế\" sau khi trải nghiệm.\n",
    "    * **Vai trò trong phân cụm:** Giúp xác định mức độ chấp nhận và yêu thích của thị trường đối với sản phẩm.\n",
    "\n",
    "**Các câu hỏi mà việc phân cụm với các thuộc tính này nhằm trả lời:**\n",
    "\n",
    "1.  **Phân khúc sản phẩm theo giá trị và chất lượng:**\n",
    "    * Có thể xác định được các nhóm sản phẩm nào mang lại **\"giá trị tốt nhất\"** (ví dụ: nhiều tính năng được mô tả, rating cao nhưng giá cả phải chăng) không?\n",
    "    * Có thể phân biệt được nhóm sản phẩm **\"cao cấp\"** (ví dụ: mô tả nhiều tính năng vượt trội, rating rất cao, và giá cao tương xứng) với nhóm sản phẩm **\"cơ bản/giá rẻ\"** (ví dụ: mô tả ít tính năng, rating ở mức chấp nhận được, giá thấp) không?\n",
    "\n",
    "2.  **Phát hiện các trường hợp đặc biệt về định giá và cảm nhận chất lượng:**\n",
    "    * Có nhóm sản phẩm nào dường như được **\"định giá quá cao\"** (ví dụ: mô tả nhiều tính năng nhưng rating thực tế thấp so với mức giá) không?\n",
    "    * Có thể tìm ra những **\"món hời tiềm ẩn\"** (ví dụ: rating tốt, giá thấp, nhưng có thể phần mô tả chưa làm nổi bật hết các tính năng giá trị) không?\n",
    "\n",
    "3.  **Hiểu cấu trúc thị trường:**\n",
    "    * Các cụm sản phẩm hình thành có tương quan như thế nào giữa ba yếu tố: tính năng mô tả, giá cả, và đánh giá của người dùng? (Ví dụ: Một cụm có thể là \"các sản phẩm điện tử với mô tả nhiều tính năng, giá cao và rating rất tốt\", trong khi một cụm khác là \"phụ kiện giá rẻ, mô tả đơn giản, rating ở mức khá\").\n",
    "\n",
    "Bằng cách phân cụm dựa trên sự kết hợp của ba thuộc tính này, chúng ta kỳ vọng sẽ khám phá ra những phân khúc sản phẩm có ý nghĩa, từ đó cung cấp cái nhìn sâu sắc hơn về chiến lược sản phẩm và định vị giá trên thị trường."
   ]
  },
  {
   "cell_type": "code",
   "execution_count": null,
   "id": "2fbb6cda",
   "metadata": {},
   "outputs": [],
   "source": [
    "import pandas as pd\n",
    "import numpy as np\n",
    "import re\n",
    "import matplotlib.pyplot as plt\n",
    "import seaborn as sns\n",
    "import nltk\n",
    "from nltk.tokenize import word_tokenize\n",
    "from nltk.corpus import stopwords\n",
    "from nltk.stem import WordNetLemmatizer\n",
    "from sklearn.feature_extraction.text import TfidfVectorizer\n",
    "from sklearn.decomposition import TruncatedSVD, PCA\n",
    "from sklearn.preprocessing import StandardScaler\n",
    "from sklearn.cluster import KMeans, AgglomerativeClustering\n",
    "from sklearn.metrics import silhouette_score, davies_bouldin_score\n",
    "from scipy.cluster.hierarchy import dendrogram, linkage\n",
    "\n",
    "# --- MỚI THÊM VÀO: Thư viện cho mô hình hồi quy và phân loại ---\n",
    "from sklearn.model_selection import train_test_split\n",
    "from sklearn.linear_model import LinearRegression, LogisticRegression\n",
    "from sklearn.metrics import mean_squared_error, r2_score, accuracy_score, classification_report, confusion_matrix\n",
    "import tensorflow as tf\n", # Thêm tensorflow
    "from tensorflow.keras.models import Sequential\n",
    "from tensorflow.keras.layers import Dense, Dropout\n",
    "from tensorflow.keras.callbacks import EarlyStopping\n",
    "\n",
    "# Cấu hình hiển thị\n",
    "pd.set_option('display.max_columns', None)\n",
    "sns.set(style=\"whitegrid\")\n",
    "plt.rcParams['figure.figsize'] = (12, 8)\n",
    "\n",
    "# Cấu hình cảnh báo\n",
    "import warnings\n",
    "warnings.filterwarnings('ignore')"
   ]
  },
  {
   "cell_type": "code",
   "execution_count": null, # Sẽ được cập nhật khi chạy
   "id": "4b9705de",
   "metadata": {},
   "outputs": [],
   "source": [
    "df_raw = pd.read_csv(\"data/amazon.csv\")\n",
    "df = df_raw.copy() # Tạo bản sao để làm việc, giữ df_raw nguyên vẹn"
   ]
  },
  {
   "cell_type": "markdown",
   "id": "ccbf5209",
   "metadata": {},
   "source": [
    "# 1. MÔ TẢ TẬP DỮ LIỆU "
   ]
  },
  {
   "cell_type": "markdown",
   "id": "e1619301",
   "metadata": {},
   "source": [
    "### 📦 Thông tin về tập Amazon Sales Dataset\n",
    "#### 🛍️ Thông tin về sản phẩm\n",
    "\n",
    "| Trường              | Mô tả                                                                 |\n",
    "|---------------------|----------------------------------------------------------------------|\n",
    "| `product_id`        | Mã định danh duy nhất của sản phẩm.                                  |\n",
    "| `product_name`      | Tên sản phẩm.                                                        |\n",
    "| `category`          | Danh mục sản phẩm.                                                   |\n",
    "| `discounted_price`  | Giá sau khi giảm (hiển thị với khách hàng).                          |\n",
    "| `actual_price`      | Giá gốc của sản phẩm trước khi giảm giá.                             |\n",
    "| `discount_percentage` | Phần trăm giảm giá được tính dựa trên `actual_price`.              |\n",
    "| `rating`            | Điểm đánh giá trung bình từ người dùng (thang điểm 5).               |\n",
    "| `rating_count`      | Số lượng người đã đánh giá sản phẩm.                                 |\n",
    "| `about_product`     | Mô tả ngắn hoặc thông tin kỹ thuật về sản phẩm.                      |\n",
    "| `img_link`          | Link hình ảnh đại diện của sản phẩm.                                 |\n",
    "| `product_link`      | Link tới trang chính thức của sản phẩm trên website (Amazon hoặc khác). |\n",
    "\n",
    "#### 🧑 Thông tin đánh giá từ người dùng\n",
    "\n",
    "| Trường           | Mô tả                                                                 |\n",
    "|------------------|----------------------------------------------------------------------|\n",
    "| `user_id`        | Mã định danh của người dùng đã đánh giá sản phẩm.                    |\n",
    "| `user_name`      | Tên người dùng đã viết đánh giá. Có thể là nickname hoặc tên thật.   |\n",
    "| `review_id`      | Mã định danh của đánh giá, dùng để phân biệt từng bài review.        |\n",
    "| `review_title`   | Tiêu đề ngắn gọn của đánh giá, thể hiện ý chính.                     |\n",
    "| `review_content` | Nội dung chi tiết của bài đánh giá từ người dùng.                    |"
   ]
  },
  {
   "cell_type": "markdown",
   "id": "a24b1880",
   "metadata": {},
   "source": [
    "# 2. ĐÁNH GIÁ TẬP DỮ LIỆU "
   ]
  },
  {
   "cell_type": "code",
   "execution_count": null, # Sẽ được cập nhật khi chạy
   "id": "16302653",
   "metadata": {},
   "outputs": [], # Sẽ được cập nhật khi chạy
   "source": [
    "print(\"Năm dòng đầu tiên của DataFrame thô:\")\n",
    "df.head()"
   ]
  },
  {
   "cell_type": "code",
   "execution_count": null, # Sẽ được cập nhật khi chạy
   "id": "fefb9710",
   "metadata": {},
   "outputs": [], # Sẽ được cập nhật khi chạy
   "source": [
    "print(f\"\\nKích thước của DataFrame thô: {df.shape[0]} dòng, {df.shape[1]} cột\")"
   ]
  },
  {
   "cell_type": "code",
   "execution_count": null, # Sẽ được cập nhật khi chạy
   "id": "e2ec0c05",
   "metadata": {},
   "outputs": [], # Sẽ được cập nhật khi chạy
   "source": [
    "df.info()"
   ]
  },
  {
   "cell_type": "markdown",
   "id": "58a21102",
   "metadata": {},
   "source": [
    "Ta thấy dữ liệu gồm có 1465 dòng với 16 cột dữ liệu dưới dạng object."
   ]
  },
  {
   "cell_type": "markdown",
   "id": "49edd481",
   "metadata": {},
   "source": [
    "Các cột discounted_price, actual_price, discount_percentage, rating, rating_count cần chuyển về  dạng số:\n",
    "| **Cột**              | **Kiểu mới** | **Ghi chú**                                                            |\n",
    "|----------------------|--------------|------------------------------------------------------------------------|\n",
    "| `discounted_price`   | `float`      | Cần loại bỏ ký tự `₹`, dấu phẩy nếu có trước khi chuyển đổi kiểu      |\n",
    "| `actual_price`       | `float`      | Cần loại bỏ ký tự `₹`, dấu phẩy nếu có trước khi chuyển đổi kiểu      |\n",
    "| `rating`             | `float`      | Đã ở dạng số thập phân, chỉ cần ép kiểu nếu cần                        |\n",
    "| `discount_percentage`| `float`        | Cần loại bỏ dấu `%` trước khi ép kiểu                                 |\n",
    "| `rating_count`       | `int`        | Loại bỏ dấu phẩy hàng nghìn (`,`) trước khi ép kiểu                   |"
   ]
  },
  {
   "cell_type": "markdown",
   "id": "57e0cff2",
   "metadata": {},
   "source": [
    "Các cột product_name, category, about_product, review_title, review_content cần xử lý dạng văn bản, rút gọn nội dung, tên sản phẩm/ danh mục: \n"
   ]
  },
  {
   "cell_type": "markdown",
   "id": "e206a52b",
   "metadata": {},
   "source": [
    "| **Cột**             | **Cách xử lý**                                                                                                                                                                  |\n",
    "|---------------------|---------------------------------------------------------------------------------------------------------------------------------------------------------------------------------|\n",
    "| `product_name`      | Rút gọn tên sản phẩm, loại bỏ các ký tự đặc biệt                                                                                 |\n",
    "| `category`          | Đây là chuỗi phân cấp danh mục, ví dụ: `Computers&Accessories\\|Accessories&Peripherals\\|...\\|USBCables`. Có thể xử lý theo các cách:                                          |\n",
    "|                     | - Trích xuất danh mục **cụ thể nhất** (ví dụ: `USBCables`)                                                                                                                      |\n",
    "|                     | - Kết hợp danh mục **chính và cuối cùng** (ví dụ: `Computers&Accessories - USBCables`)                                                                                          |\n",
    "|                     | - Hoặc tách thành **các cột riêng biệt** theo từng cấp phân loại (ví dụ: `cat_lvl_1`, `cat_lvl_2`, ...)                                                                        |\n",
    "| `about_product`     | Rút gọn nội dung mô tả hoặc áp dụng các kỹ thuật xử lý ngôn ngữ tự nhiên (NLP): loại bỏ từ dừng, chuẩn hoá văn bản, tóm tắt nội dung.                                          |\n",
    "| `review_title`      | Làm sạch dấu câu, loại bỏ trùng lặp, chuẩn hoá chữ thường/hoa.                                  |\n",
    "| `review_content`    | Tương tự như `review_title`: làm sạch, chuẩn hoá, có thể dùng `tóm tắt`, `TF-IDF`, `Word2Vec` |"
   ]
  },
  {
   "cell_type": "code",
   "execution_count": null, # Sẽ được cập nhật khi chạy
   "id": "dbbf6b12",
   "metadata": {},
   "outputs": [], # Sẽ được cập nhật khi chạy
   "source": [
    "print(\"\\nGiá trị null ở các cột:\")\n",
    "df.isnull().sum()"
   ]
  },
  {
   "cell_type": "code",
   "execution_count": null, # Sẽ được cập nhật khi chạy
   "id": "6cc1d0d0",
   "metadata": {},
   "outputs": [], # Sẽ được cập nhật khi chạy
   "source": [
    "# Phần trăm giá trị null ở các cột\n",
    "print(\"\\nPhần trăm giá trị null ở các cột:\")\n",
    "print(df.isnull().mean().round(4) * 100)"
   ]
  },
  {
   "cell_type": "markdown",
   "id": "330a2fd7",
   "metadata": {},
   "source": [
    "Có cột rating_count có tỷ lệ % Null là 0.14%, có thể xóa/bỏ đi được. \n"
   ]
  },
  {
   "cell_type": "markdown",
   "id": "23610b3e",
   "metadata": {},
   "source": [
    "# 3. TIỀN XỬ LÝ DỮ LIỆU "
   ]
  },
  {
   "cell_type": "markdown",
   "id": "f53d6064",
   "metadata": {},
   "source": [
    "## 3.1. Tiền xử lý dữ liệu số "
   ]
  },
  {
   "cell_type": "code",
   "execution_count": null, # Sẽ được cập nhật khi chạy
   "id": "5cc0e657",
   "metadata": {},
   "outputs": [], # Sẽ được cập nhật khi chạy
   "source": [
    "# Tạo một bản sao để thao tác an toàn\n",
    "df_processed = df.copy()\n",
    "\n",
    "# Loại bỏ các ký tự không phải số khỏi các cột giá\n",
    "price_columns = ['discounted_price', 'actual_price', 'discount_percentage', 'rating_count']\n",
    "for col in price_columns:\n",
    "    # Đảm bảo cột là string trước khi dùng .str\n",
    "    df_processed[col] = df_processed[col].astype(str)\n",
    "    df_processed[col] = df_processed[col].str.replace('₹', '', regex=False)\n",
    "    df_processed[col] = df_processed[col].str.replace(',', '', regex=False)\n",
    "    df_processed[col] = df_processed[col].str.replace('%', '', regex=False)\n",
    "\n",
    "print(\"Đã loại bỏ ký tự khỏi các cột giá.\")"
   ]
  },
  {
   "cell_type": "code",
   "execution_count": null, # Sẽ được cập nhật khi chạy
   "id": "84f6757b",
   "metadata": {},
   "outputs": [], # Sẽ được cập nhật khi chạy
   "source": [
    "df_processed.head()"
   ]
  },
  {
   "cell_type": "code",
   "execution_count": null, # Sẽ được cập nhật khi chạy
   "id": "c7432b90",
   "metadata": {},
   "outputs": [], # Sẽ được cập nhật khi chạy
   "source": [
    "# Chuyển đổi các cột sang dạng số\n",
    "numeric_conversion_cols = ['discounted_price', 'actual_price', 'rating', 'discount_percentage', 'rating_count']\n",
    "for col in numeric_conversion_cols:\n",
    "    df_processed[col] = pd.to_numeric(df_processed[col], errors='coerce')\n",
    "\n",
    "# Xử lý riêng discount_percentage và rating_count nếu cần\n",
    "if 'discount_percentage' in df_processed.columns and df_processed['discount_percentage'].notnull().any():\n",
    "    df_processed['discount_percentage'] = df_processed['discount_percentage']/100\n",
    "if 'rating_count' in df_processed.columns and df_processed['rating_count'].notnull().any():\n",
    "    # Chuyển sang Int64 để cho phép giá trị NA (nếu có sau này) mà không bị lỗi ép kiểu int thông thường\n",
    "    df_processed['rating_count'] = df_processed['rating_count'].astype('Int64') \n",
    "\n",
    "print(\"Đã chuyển các cột sang kiểu dữ liệu số.\")"
   ]
  },
  {
   "cell_type": "code",
   "execution_count": null, # Sẽ được cập nhật khi chạy
   "id": "0f5a7194",
   "metadata": {},
   "outputs": [], # Sẽ được cập nhật khi chạy
   "source": [
    "# Tìm dữ liệu bị lỗi trong cột 'rating' (trên df gốc vì df_processed['rating'] đã là numeric)\n",
    "df['rating'].value_counts()"
   ]
  },
  {
   "cell_type": "markdown",
   "id": "bcc0141a",
   "metadata": {},
   "source": [
    "Tra cứu điểm đánh giá của sản phẩm này trên Amazon bằng cách tìm kiếm product_id được cung cấp trên trang chính thức của họ (amazon.in).\n",
    "\n",
    "Điểm đánh giá là 3.9. Vì vậy, đánh giá sản phẩm này là 3.9."
   ]
  },
  {
   "cell_type": "code",
   "execution_count": null, # Sẽ được cập nhật khi chạy
   "id": "9d29398a",
   "metadata": {},
   "outputs": [],
   "source": [
    "# Thực hiện trên df_processed vì df['rating'] có thể vẫn là object\n",
    "df_processed['rating'] = df_processed['rating'].astype(str).str.replace('|', '3.9').astype('float64')"
   ]
  },
  {
   "cell_type": "code",
   "execution_count": null, # Sẽ được cập nhật khi chạy
   "id": "90800448",
   "metadata": {},
   "outputs": [], # Sẽ được cập nhật khi chạy
   "source": [
    "# In thông tin tổng quan của DataFrame để kiểm tra\n",
    "print(\"Thông tin DataFrame sau khi chuyển đổi kiểu dữ liệu:\")\n",
    "df_processed.info()\n",
    "print(df_processed.head(10))"
   ]
  },
  {
   "cell_type": "markdown",
   "id": "3d359a0d",
   "metadata": {},
   "source": [
    "## 3.2. Tiền xử lý dữ liệu văn bản "
   ]
  },
  {
   "cell_type": "code",
   "execution_count": null, # Sẽ được cập nhật khi chạy
   "id": "ac097176",
   "metadata": {},
   "outputs": [], # Sẽ được cập nhật khi chạy
   "source": [
    "import nltk\n",
    "\n",
    "# Tải các gói cần thiết cho việc xử lý ngôn ngữ (chạy 1 lần)\n",
    "try:\n",
    "    stopwords.words('english')\n",
    "except LookupError:\n",
    "    nltk.download('punkt')      # Dùng cho Tokenization\n",
    "    nltk.download('stopwords')  # Chứa danh sách từ dừng\n",
    "    nltk.download('wordnet')    # Dùng cho Lemmatization\n",
    "    # nltk.download('punkt_tab') # Có thể không cần thiết nếu punkt đã đủ\n",
    "\n",
    "print(\"Đã tải/kiểm tra xong các tài nguyên NLTK.\")"
   ]
  },
  {
   "cell_type": "markdown",
   "id": "a1063e69",
   "metadata": {},
   "source": [
    "#### Xử lý tên sản phẩm - rút gọn và loại bỏ ký tự đặc biệt"
   ]
  },
  {
   "cell_type": "code",
   "execution_count": null, # Sẽ được cập nhật khi chạy
   "id": "512ddcac",
   "metadata": {},
   "outputs": [],
   "source": [
    "def clean_product_name(name):\n",
    "    if not isinstance(name, str):\n",
    "        return name\n",
    "    name = name.replace('&', ' and ')\n",
    "    # Loại bỏ các ký tự đặc biệt\n",
    "    # Sử dụng biểu thức chính quy (regex) để loại bỏ các ký tự đặc biệt khỏi chuỗi name, giữ lại chỉ chữ cái, số và khoảng trắng.\n",
    "    cleaned_name = re.sub(r'[^\\w\\s]', ' ', name)\n",
    "    # Loại bỏ khoảng trắng thừa\n",
    "    cleaned_name = re.sub(r'\\s+', ' ', cleaned_name).strip()\n",
    "    # Rút gọn tên sản phẩm nếu quá dài\n",
    "    return cleaned_name[:50] + '...' if len(cleaned_name) > 50 else cleaned_name\n",
    "# Áp dụng hàm làm sạch tên sản phẩm\n",
    "df_processed['product_name'] = df_processed['product_name'].apply(clean_product_name)"
   ]
  },
  {
   "cell_type": "markdown",
   "id": "d442ed7f",
   "metadata": {},
   "source": [
    "#### Xử lý tên danh mục sản phẩm"
   ]
  },
  {
   "cell_type": "code",
   "execution_count": null, # Sẽ được cập nhật khi chạy
   "id": "4bda81bd",
   "metadata": {},
   "outputs": [],
   "source": [
    "# Hàm danh mục chính \n",
    "def extract_main_category(category):\n",
    "    if not isinstance(category, str):\n",
    "        return category\n",
    "    categories = category.split('|')\n",
    "    return categories[0] if categories else ''\n",
    "# Danh mục cụ thể nhất (cuối cùng)\n",
    "def extract_specific_category(category):\n",
    "    if not isinstance(category, str):\n",
    "        return category\n",
    "    categories = category.split('|')\n",
    "    return categories[-1] if categories else ''\n",
    "# Áp dụng hàm để tạo cột danh mục chính và cụ thể nhất\n",
    "df_processed['main_category'] = df_processed['category'].apply(extract_main_category)\n",
    "df_processed['specific_category'] = df_processed['category'].apply(extract_specific_category)\n",
    "# Làm sach cột danh mục\n",
    "df_processed['main_category'] = df_processed['main_category'].apply(clean_product_name)\n",
    "df_processed['specific_category'] = df_processed['specific_category'].apply(clean_product_name)"
   ]
  },
  {
   "cell_type": "code",
   "execution_count": null, # Sẽ được cập nhật khi chạy
   "id": "12787463",
   "metadata": {},
   "outputs": [], # Sẽ được cập nhật khi chạy
   "source": [
    "df_processed.head()"
   ]
  },
  {
   "cell_type": "markdown",
   "id": "f3767841",
   "metadata": {},
   "source": [
    "#### Xử lý thuộc tính text - rút gọn và loại bỏ ký tự đặc biệt"
   ]
  },
  {
   "cell_type": "code",
   "execution_count": null, # Sẽ được cập nhật khi chạy
   "id": "3e588252",
   "metadata": {},
   "outputs": [], # Sẽ được cập nhật khi chạy
   "source": [
    "# In 5 dòng đầu của các thuộc tính văn bản (trước khi làm sạch sâu)\n",
    "text_columns_to_show = ['about_product', 'review_title', 'review_content']\n",
    "for col in text_columns_to_show:\n",
    "    print(f\"\\n5 dòng đầu của cột {col} (TRƯỚC LÀM SẠCH SÂU):\")\n",
    "    for i, val in enumerate(df_processed[col].head(5)):\n",
    "        print(f\"{i+1}. {str(val)[:200]}...\") # In 200 ký tự đầu\n",
    "\n"
   ]
  },
  {
   "cell_type": "code",
   "execution_count": null, # Sẽ được cập nhật khi chạy
   "id": "05b2badd",
   "metadata": {},
   "outputs": [],
   "source": [
    "def clean_text(text):\n",
    "    if not isinstance(text, str):\n",
    "        return text\n",
    "    text = text.lower()\n",
    "    text = re.sub(r'&+', ' and ', text)\n",
    "    text = re.sub(r'http\\S+|www\\S+|https\\S+', '', text, flags=re.IGNORECASE)\n",
    "    text = re.sub(r'm\\s*media\\s*amazon\\s*com\\s*images\\S*', '', text, flags=re.IGNORECASE)\n",
    "    text = re.sub(r'[^a-z0-9\\s]', ' ', text)\n",
    "    text = re.sub(r'\\s+', ' ', text).strip()\n",
    "    return text\n",
    "\n",
    "# Áp dụng cho các cột văn bản\n",
    "text_columns_to_clean = ['about_product', 'review_title', 'review_content']\n",
    "for col in text_columns_to_clean:\n",
    "    df_processed[col] = df_processed[col].apply(clean_text)"
   ]
  },
  {
   "cell_type": "code",
   "execution_count": null, # Sẽ được cập nhật khi chạy
   "id": "be07c8e1",
   "metadata": {},
   "outputs": [],
   "source": [
    "stop_words = set(stopwords.words('english'))\n",
    "lemmatizer = WordNetLemmatizer()\n",
    "\n",
    "def preprocess_text_nlp(text):\n",
    "    if not isinstance(text, str):\n",
    "        return text\n",
    "    # Tokenization\n",
    "    tokens = word_tokenize(text)\n",
    "    # Loại bỏ stop word và chỉ giữ lại từ chữ cái\n",
    "    tokens = [w for w in tokens if w.isalpha() and w not in stop_words]\n",
    "    # Lemmatization\n",
    "    tokens = [lemmatizer.lemmatize(w) for w in tokens]\n",
    "    # Ghép lại thành chuỗi\n",
    "    return ' '.join(tokens)\n",
    "\n",
    "text_columns_to_preprocess = ['about_product', 'review_title', 'review_content']\n",
    "for col in text_columns_to_preprocess:\n",
    "    df_processed[col] = df_processed[col].apply(preprocess_text_nlp)"
   ]
  },
  {
   "cell_type": "code",
   "execution_count": null, # Sẽ được cập nhật khi chạy
   "id": "f0cc887b",
   "metadata": {},
   "outputs": [], # Sẽ được cập nhật khi chạy
   "source": [
    "# In 5 dòng đầu của các thuộc tính văn bản (sau khi làm sạch sâu)\n",
    "for col in text_columns_to_show: # Dùng lại list từ cell trước\n",
    "    print(f\"\\n5 dòng đầu của cột {col} (SAU LÀM SẠCH SÂU):\")\n",
    "    for i, val in enumerate(df_processed[col].head(5)):\n",
    "        print(f\"{i+1}. {str(val)[:200]}...\")\n"
   ]
  },
  {
   "cell_type": "markdown",
   "id": "c8758de7",
   "metadata": {},
   "source": [
    "## 3.3. Làm sạch dữ liệu (Xử lý thiếu, trùng lặp) "
   ]
  },
  {
   "cell_type": "code",
   "execution_count": null, # Sẽ được cập nhật khi chạy
   "id": "2db6a2cd",
   "metadata": {},
   "outputs": [], # Sẽ được cập nhật khi chạy
   "source": [
    "# Xử lý giá trị thiếu cho cột rating (nếu có)\n",
    "if df_processed['rating'].isnull().sum() > 0:\n",
    "    median_rating = df_processed['rating'].median()\n",
    "    df_processed['rating'].fillna(median_rating, inplace=True)\n",
    "    print(f\"Đã lấp đầy giá trị thiếu trong 'rating' bằng trung vị: {median_rating}\")\n",
    "else:\n",
    "    print(\"Không có giá trị thiếu trong 'rating' để lấp.\")\n",
    "\n",
    "# Xử lý giá trị thiếu cho rating_count (nếu có)\n",
    "if df_processed['rating_count'].isnull().sum() > 0:\n",
    "    median_rating_count = df_processed['rating_count'].median()\n",
    "    df_processed['rating_count'].fillna(median_rating_count, inplace=True)\n",
    "    # Đảm bảo kiểu Int64 sau khi fillna\n",
    "    df_processed['rating_count'] = df_processed['rating_count'].astype('Int64')\n",
    "    print(f\"Đã lấp đầy giá trị thiếu trong 'rating_count' bằng trung vị: {median_rating_count}\")\n",
    "else:\n",
    "    print(\"Không có giá trị thiếu trong 'rating_count' để lấp.\")\n",
    "\n",
    "print(\"\\nKiểm tra lại giá trị thiếu sau xử lý:\")\n",
    "print(df_processed.isnull().sum()[df_processed.isnull().sum() > 0])\n",
    "df_processed.info()"
   ]
  },
  {
   "cell_type": "code",
   "execution_count": null, # Sẽ được cập nhật khi chạy
   "id": "d47cedbd",
   "metadata": {},
   "outputs": [], # Sẽ được cập nhật khi chạy
   "source": [
    "# Xử lý dữ liệu trùng lặp\n",
    "print(f\"Số dòng trùng lặp trước khi loại bỏ: {df_processed.duplicated().sum()}\")\n",
    "df_processed.drop_duplicates(inplace=True)\n",
    "print(f\"Số dòng trùng lặp sau khi loại bỏ: {df_processed.duplicated().sum()}\")\n",
    "print(f\"Kích thước dữ liệu sau khi loại bỏ trùng lặp: {df_processed.shape}\")"
   ]
  },
  {
   "cell_type": "markdown",
   "id": "a99e9a2a",
   "metadata": {},
   "source": [
    "Không có dữ liệu trùng lặp "
   ]
  },
  {
   "cell_type": "markdown",
   "id": "8f557fa9",
   "metadata": {},
   "source": [
    "# 4. KHÁM PHÁ VÀ PHÂN TÍCH DỮ LIỆU (EDA) (Tiếp theo)"
   ]
  },
  {
   "cell_type": "markdown",
   "id": "623c0c45",
   "metadata": {},
   "source": [
    "## 4.1. Thống kê, phân phối dữ liệu "
   ]
  },
  {
   "cell_type": "code",
   "execution_count": null, # Sẽ được cập nhật khi chạy
   "id": "f9661590",
   "metadata": {},
   "outputs": [], # Sẽ được cập nhật khi chạy
   "source": [
    "df_processed[['discounted_price', 'actual_price', 'discount_percentage', 'rating', 'rating_count']].describe()"
   ]
  },
  {
   "cell_type": "code",
   "execution_count": null, # Sẽ được cập nhật khi chạy
   "id": "087397aa",
   "metadata": {},
   "outputs": [], # Sẽ được cập nhật khi chạy
   "source": [
    "# Trực quan hóa phân phối của các cột số \n",
    "plt.figure(figsize=(16,10))\n",
    "plt.subplot(3, 2, 1)\n",
    "sns.histplot(df_processed['discounted_price'].dropna(), bins=30, kde=True, color='orange')\n",
    "plt.title('Phân phối giá đã giảm (Discounted Price)')\n",
    "plt.subplot(3, 2, 2)\n",
    "sns.histplot(df_processed['actual_price'].dropna(), bins=30, kde=True, color='green')\n",
    "plt.title('Phân phối giá gốc (Actual Price)')\n",
    "plt.subplot(3,2,3)\n",
    "sns.histplot(df_processed['discount_percentage'].dropna(), bins=30, kde=True, color='blue')\n",
    "plt.title('Phân phối phần trăm giảm giá (Discount Percentage)')\n",
    "plt.subplot(3, 2, 4)\n",
    "sns.histplot(df_processed['rating'].dropna(), bins=30, kde=True, color='purple')\n",
    "plt.title('Phân phối đánh giá (Rating)')\n",
    "plt.subplot(3, 2, 5)\n",
    "sns.histplot(df_processed['rating_count'].dropna(), bins=30, kde=True, color='red')\n",
    "plt.title('Phân phối số lượng đánh giá (Rating Count)')\n",
    "plt.tight_layout()\n",
    "plt.show()\n"
   ]
  },
  {
   "cell_type": "markdown",
   "id": "f76b149a",
   "metadata": {},
   "source": [
    "**Các thuộc tính số đều có phân phối không chuẩn:**\n",
    "- Discounted_price và actual_price có phân phối lệch phải: cho thấy giá gốc và giá đã giảm nằm ở mức thấp, nhiều nhất ở khoảng dưới 2000 Rupee (~$23/600.000VND).\n",
    "- Phần trăm giảm giá (Discount percentage) phân phối trải rộng, tập trung nhiều nhất ở khoảng 40-60% cho một sản phẩm.\n",
    "- Rating lại có phân phối lệch trái: cho thấy điểm đánh giá cho các sản phẩm khá cao, chủ yếu ở mức 3.5 - 4.5. \n",
    "- Số đánh giá cho mỗi sản phẩm có phân phối lệch phải: khoảng dưới 100.000 đánh giá cho một sản phẩm, một số ít có số lượng đánh giá cao.  \n"
   ]
  },
  {
   "cell_type": "code",
   "execution_count": null, # Sẽ được cập nhật khi chạy
   "id": "5c096b5a",
   "metadata": {},
   "outputs": [], # Sẽ được cập nhật khi chạy
   "source": [
    "df_processed.describe(include='object')"
   ]
  },
  {
   "cell_type": "markdown",
   "id": "57255981",
   "metadata": {},
   "source": [
    "- Danh mục sản phẩm chính xuất hiện nhiều nhất là Electronics và loại USBCables. \n",
    "- Các danh mục sản phẩm duy nhất: 9\n",
    "- Các danh mục cụ thể nhất duy nhất: 207\n",
    "- Có 1290 loại sản phẩm khác nhau "
   ]
  },
  {
   "cell_type": "markdown",
   "id": "86f4a4af",
   "metadata": {},
   "source": [
    "## 4.2. Grouping and Aggregation"
   ]
  },
  {
   "cell_type": "markdown",
   "id": "044bc85d",
   "metadata": {},
   "source": [
    "### Đánh giá trung bình của các danh mục sản phẩm "
   ]
  },
  {
   "cell_type": "code",
   "execution_count": null, # Sẽ được cập nhật khi chạy
   "id": "592b3a7c",
   "metadata": {},
   "outputs": [], # Sẽ được cập nhật khi chạy
   "source": [
    "# Nhóm theo danh mục chính và tính trung bình của cột 'rating'\n",
    "grouped_df = df_processed.groupby('main_category')['rating'].mean()\n",
    "print(\"\\nTrung bình đánh giá theo danh mục chính:\")\n",
    "print(grouped_df.sort_values(ascending=False).head(10))\n"
   ]
  },
  {
   "cell_type": "markdown",
   "id": "cc6714c6",
   "metadata": {},
   "source": [
    "- Các đánh giá cao nhất thuộc về danh mục sản phẩm văn phòng phẩm, đồ chơi và games.\n",
    "- Đồ điện tử, danh mục sản phẩm cho nhà bếp, sức khỏe đánh giá nằm ở mức trung bình.\n",
    "- Nhạc cụ và các loại xe mua qua sàn thương mại Amazon lại có đánh giá trung bình thấp. "
   ]
  },
  {
   "cell_type": "markdown",
   "id": "6a92193d",
   "metadata": {},
   "source": [
    "### Top 10 sản phẩm có số lượng đánh giá nhiều nhất ở các danh mục sản phẩm "
   ]
  },
  {
   "cell_type": "code",
   "execution_count": null, # Sẽ được cập nhật khi chạy
   "id": "4248ba4f",
   "metadata": {},
   "outputs": [], # Sẽ được cập nhật khi chạy
   "source": [
    "product_gr_cate_rating_count = df_processed.groupby(['main_category', 'product_name'])['rating_count'].sum().reset_index()\n",
    "product_gr_cate_rating_count = product_gr_cate_rating_count.sort_values(by='rating_count', ascending=False)\n",
    "print(\"\\nSố lượng đánh giá theo danh mục chính và tên sản phẩm:\")\n",
    "product_gr_cate_rating_count.head(10)"
   ]
  },
  {
   "cell_type": "code",
   "execution_count": null, # Sẽ được cập nhật khi chạy
   "id": "b6363d17",
   "metadata": {},
   "outputs": [], # Sẽ được cập nhật khi chạy
   "source": [
    "# Trực quan hóa số lượng đánh giá theo danh mục chính\n",
    "plt.figure(figsize=(12, 6))\n",
    "sns.barplot(x='rating_count', y='main_category', data=product_gr_cate_rating_count.head(10), palette='Set1', hue='product_name')\n",
    "plt.title('Số lượng đánh giá theo danh mục chính')\n",
    "plt.xlabel('Số lượng đánh giá')\n",
    "plt.ylabel('Danh mục chính')\n",
    "plt.show()"
   ]
  },
  {
   "cell_type": "markdown",
   "id": "955acdb9",
   "metadata": {},
   "source": [
    "- Danh mục có số lượng sản phẩm được đánh giá nhiều nhất là Electronics, và điểm đánh giá trung bình cho danh mục này nằm ở mức 4.0 (Khá). Đứng đầu là Cáp AmazonBasics. \n",
    "- Danh mục có sản phẩm bán chạy nằm trong Top 10 là Computers and Accessories với sản phẩm Deuce USB. Và Computers and Accessories cũng có rating trung bình là 4.15 nằm ở mức khá. <br>\n",
    "**--> Những sản phẩm có số lượng đánh giá cao nhất trong từng danh mục có thể được coi là các mặt hàng bán chạy tiềm năng, ngay cả khi không có dữ liệu bán hàng trực tiếp.**"
   ]
  },
  {
   "cell_type": "markdown",
   "id": "3ab49acc",
   "metadata": {},
   "source": [
    "# 5. XỬ LÝ OUTLIERS, NHIỄU (cho phân cụm) "
   ]
  },
  {
   "cell_type": "code",
   "execution_count": null, # Sẽ được cập nhật khi chạy
   "id": "d6d96844",
   "metadata": {},
   "outputs": [], # Sẽ được cập nhật khi chạy
   "source": [
    "import matplotlib.pyplot as plt\n",
    "import seaborn as sns\n",
    "\n",
    "numeric_cols_for_clustering = ['discounted_price', 'actual_price', 'discount_percentage', 'rating', 'rating_count']\n",
    "\n",
    "# Vẽ boxplot để kiểm tra outliers\n",
    "plt.figure(figsize=(16, 8))\n",
    "for i, col in enumerate(numeric_cols_for_clustering, 1):\n",
    "    plt.subplot(2, 3, i)\n",
    "    # Kiểm tra xem cột có tồn tại và có dữ liệu không trước khi vẽ\n",
    "    if col in df_processed.columns and not df_processed[col].dropna().empty:\n",
    "        sns.boxplot(x=df_processed[col])\n",
    "        plt.title(col)\n",
    "    else:\n",
    "        plt.title(f\"{col} (No data or all NaN)\")\n",
    "plt.tight_layout()\n",
    "plt.show()"
   ]
  },
  {
   "cell_type": "code",
   "execution_count": null, # Sẽ được cập nhật khi chạy
   "id": "8443c4b6",
   "metadata": {},
   "outputs": [], # Sẽ được cập nhật khi chạy
   "source": [
    "# Kiểm tra tỷ lệ outliers của từng biến số bằng phương pháp IQR\n",
    "def compute_iqr_bounds(series):\n",
    "    # Bỏ qua NaN khi tính quantile\n",
    "    series_cleaned = series.dropna()\n",
    "    if series_cleaned.empty:\n",
    "        return np.nan, np.nan # Trả về NaN nếu không có dữ liệu\n",
    "    Q1 = series_cleaned.quantile(0.25)\n",
    "    Q3 = series_cleaned.quantile(0.75)\n",
    "    IQR = Q3 - Q1\n",
    "    lower = Q1 - 1.5 * IQR\n",
    "    upper = Q3 + 1.5 * IQR\n",
    "    return lower, upper\n",
    "\n",
    "def outlier_ratio_iqr(series):\n",
    "    series_cleaned = series.dropna()\n",
    "    if series_cleaned.empty:\n",
    "        return 0, 0.0\n",
    "    lower, upper = compute_iqr_bounds(series_cleaned)\n",
    "    outliers = ((series_cleaned < lower) | (series_cleaned > upper)).sum()\n",
    "    ratio = outliers / series_cleaned.shape[0]\n",
    "    return outliers, ratio\n",
    "\n",
    "print(\"Tỷ lệ outliers theo từng biến số (cho phân cụm):\")\n",
    "for col in numeric_cols_for_clustering:\n",
    "    if col in df_processed.columns:\n",
    "        outliers, ratio = outlier_ratio_iqr(df_processed[col])\n",
    "        print(f\"{col}: {outliers} outliers ({ratio:.2%})\")\n",
    "    else:\n",
    "        print(f\"{col}: column not found\")"
   ]
  },
  {
   "cell_type": "code",
   "execution_count": null, # Sẽ được cập nhật khi chạy
   "id": "05134f6b",
   "metadata": {},
   "outputs": [], # Sẽ được cập nhật khi chạy
   "source": [
    "# df_clustering là bản sao của df_processed để xử lý outliers riêng cho phân cụm\n",
    "df_clustering = df_processed.copy()\n",
    "\n",
    "def remove_outliers_by_quantile(df_in, column, lower_quantile=0.05, upper_quantile=0.95):\n",
    "    # Bỏ qua NaN khi tính quantile\n",
    "    series_cleaned = df_in[column].dropna()\n",
    "    if series_cleaned.empty:\n",
    "        return df_in # Trả về df gốc nếu không có dữ liệu\n",
    "    \n",
    "    lower_bound = series_cleaned.quantile(lower_quantile)\n",
    "    upper_bound = series_cleaned.quantile(upper_quantile)\n",
    "    return df_in[(df_in[column] >= lower_bound) & (df_in[column] <= upper_bound)]\n",
    "\n",
    "# Chỉ xử lý outliers cho 'discounted_price' cho mục đích phân cụm như trong notebook gốc\n",
    "col_to_cap = 'discounted_price'\n",
    "if col_to_cap in df_clustering.columns:\n",
    "    before = df_clustering.shape[0]\n",
    "    df_clustering = remove_outliers_by_quantile(df_clustering, col_to_cap)\n",
    "    after = df_clustering.shape[0]\n",
    "    print(f\" Đã loại bỏ {(before - after)} dòng ngoài khoảng 90% trung tâm ở cột '{col_to_cap}' cho df_clustering.\")\n",
    "else:\n",
    "    print(f\"Cột {col_to_cap} không tồn tại trong df_clustering.\")"
   ]
  },
  {
   "cell_type": "markdown",
   "id": "a37c8488",
   "metadata": {},
   "source": [
    "# 6. Chuẩn hóa dữ liệu (cho phân cụm)"
   ]
  },
  {
   "cell_type": "markdown",
   "id": "a37f22d5",
   "metadata": {},
   "source": [
    "#### Chuẩn hóa dữ liệu số (cho phân cụm)"
   ]
  },
  {
   "cell_type": "code",
   "execution_count": null, # Sẽ được cập nhật khi chạy
   "id": "8034ce98",
   "metadata": {},
   "outputs": [], # Sẽ được cập nhật khi chạy
   "source": [
    "from sklearn.preprocessing import StandardScaler\n",
    "\n",
    "num_cols_cluster = ['discounted_price', 'actual_price', 'rating'] # Các cột dùng cho phân cụm\n",
    "scaler_cluster = StandardScaler()\n",
    "\n",
    "# Đảm bảo các cột này tồn tại và không có NaN trước khi scale\n",
    "df_clustering.dropna(subset=num_cols_cluster, inplace=True)\n",
    "\n",
    "if not df_clustering.empty:\n",
    "    df_clustering[num_cols_cluster] = scaler_cluster.fit_transform(df_clustering[num_cols_cluster])\n",
    "    print(\"Đã chuẩn hóa các cột số cho phân cụm:\", num_cols_cluster)\n",
    "    print(df_clustering[num_cols_cluster].head())\n",
    "else:\n",
    "    print(\"Không có dữ liệu để chuẩn hóa cho phân cụm sau khi loại bỏ NaN.\")"
   ]
  },
  {
   "cell_type": "markdown",
   "id": "1cb4f151",
   "metadata": {},
   "source": [
    "#### Chuẩn hóa văn bản (cho phân cụm - about_product)"
   ]
  },
  {
   "cell_type": "code",
   "execution_count": null, # Sẽ được cập nhật khi chạy
   "id": "9e723451",
   "metadata": {},
   "outputs": [],
   "source": [
    "#!pip install sentence-transformers # Nếu chưa cài"
   ]
  },
  {
   "cell_type": "code",
   "execution_count": null, # Sẽ được cập nhật khi chạy
   "id": "27a711a1",
   "metadata": {},
   "outputs": [], # Sẽ được cập nhật khi chạy
   "source": [
    "from sklearn.feature_extraction.text import TfidfVectorizer\n",
    "from sklearn.decomposition import TruncatedSVD\n",
    "\n",
    "# TF-IDF với 1000 chiều cho df_clustering['about_product']\n",
    "if 'about_product' in df_clustering.columns and not df_clustering['about_product'].dropna().empty:\n",
    "    tfidf_cluster = TfidfVectorizer(max_features=1000)\n",
    "    # Fillna cho about_product nếu có giá trị thiếu trước khi fit_transform\n",
    "    about_product_cleaned = df_clustering['about_product'].fillna('') \n",
    "    about_embeddings_cluster = tfidf_cluster.fit_transform(about_product_cleaned)\n",
    "    print(\"Đã hoàn thành việc huấn luyện TfidfVectorizer cho phân cụm.\")\n",
    "    total_unique_words_cluster = len(tfidf_cluster.vocabulary_)\n",
    "    print(f\"Tổng số từ độc lập trong about_product (cho phân cụm) là: {total_unique_words_cluster}\")\n",
    "else:\n",
    "    print(\"Cột 'about_product' không có dữ liệu hoặc toàn NaN trong df_clustering.\")\n",
    "    about_embeddings_cluster = None # Để tránh lỗi ở cell sau"
   ]
  },
  {
   "cell_type": "code",
   "execution_count": null, # Sẽ được cập nhật khi chạy
   "id": "c630d13e",
   "metadata": {},
   "outputs": [], # Sẽ được cập nhật khi chạy
   "source": [
    "if about_embeddings_cluster is not None:\n",
    "    svd_cluster = TruncatedSVD(n_components=300, random_state=42) \n",
    "    about_embeddings_reduced_cluster = svd_cluster.fit_transform(about_embeddings_cluster)\n",
    "    print(\"Variance explained (cho phân cụm):\", svd_cluster.explained_variance_ratio_.sum())\n",
    "else:\n",
    "    about_embeddings_reduced_cluster = None"
   ]
  },
  {
   "cell_type": "markdown",
   "id": "9dd596e8",
   "metadata": {},
   "source": [
    "#### Hợp các thuộc tính lại (cho phân cụm)"
   ]
  },
  {
   "cell_type": "code",
   "execution_count": null, # Sẽ được cập nhật khi chạy
   "id": "473d5f0f",
   "metadata": {},
   "outputs": [], # Sẽ được cập nhật khi chạy
   "source": [
    "import numpy as np\n",
    "\n",
    "# Chỉ thực hiện nếu about_embeddings_reduced_cluster đã được tạo\n",
    "if about_embeddings_reduced_cluster is not None and not df_clustering.empty:\n",
    "    # Lấy 2 cột số đã chuẩn hóa từ df_clustering\n",
    "    X_num_cluster = df_clustering[['discounted_price', 'rating']].values\n",
    "\n",
    "    # Nhân trọng số cho đặc trưng số \n",
    "    weight = 10\n",
    "    X_num_weighted_cluster = X_num_cluster * weight\n",
    "\n",
    "    # Ghép với embedding\n",
    "    # Đảm bảo số dòng khớp nhau (nếu có dropna trước đó)\n",
    "    if X_num_weighted_cluster.shape[0] == about_embeddings_reduced_cluster.shape[0]:\n",
    "        X_cluster = np.hstack([X_num_weighted_cluster, about_embeddings_reduced_cluster])\n",
    "        print(\"Shape đặc trưng đầu vào cho phân cụm:\", X_cluster.shape)\n",
    "    else:\n",
    "        print(\"Lỗi: Số dòng không khớp giữa features số và features văn bản cho phân cụm.\")\n",
    "        print(f\"X_num_weighted_cluster shape: {X_num_weighted_cluster.shape}\")\n",
    "        print(f\"about_embeddings_reduced_cluster shape: {about_embeddings_reduced_cluster.shape}\")\n",
    "        X_cluster = None\n",
    "else:\n",
    "    print(\"Không thể tạo X_cluster do thiếu features.\")\n",
    "    X_cluster = None"
   ]
  },
  {
   "cell_type": "markdown",
   "id": "0acf7802",
   "metadata": {},
   "source": [
    "# 7. Phân cụm theo Kmeans"
   ]
  },
  {
   "cell_type": "code",
   "execution_count": null, # Sẽ được cập nhật khi chạy
   "id": "b417da5c",
   "metadata": {},
   "outputs": [], # Sẽ được cập nhật khi chạy
   "source": [
    "if X_cluster is not None:\n",
    "    inertia = []\n",
    "    silhouette = []\n",
    "    K_cluster = range(2, 11)\n",
    "\n",
    "    for k in K_cluster:\n",
    "        kmeans_model = KMeans(n_clusters=k, random_state=42, n_init=10)\n",
    "        labels_km = kmeans_model.fit_predict(X_cluster)\n",
    "        inertia.append(kmeans_model.inertia_)\n",
    "        if len(np.unique(labels_km)) > 1: # Cần ít nhất 2 cụm để tính silhouette\n",
    "            silhouette.append(silhouette_score(X_cluster, labels_km))\n",
    "        else:\n",
    "            silhouette.append(np.nan) # Hoặc giá trị khác để báo lỗi\n",
    "\n",
    "    plt.figure(figsize=(12,5))\n",
    "    plt.subplot(1,2,1)\n",
    "    plt.plot(K_cluster, inertia, marker='o')\n",
    "    plt.xlabel('Số cụm (k)')\n",
    "    plt.ylabel('Inertia')\n",
    "    plt.title('Elbow Method for K-Means (Clustering)')\n",
    "\n",
    "    plt.subplot(1,2,2)\n",
    "    plt.plot(K_cluster, silhouette, marker='o', color='orange')\n",
    "    plt.xlabel('Số cụm (k)')\n",
    "    plt.ylabel('Silhouette Score')\n",
    "    plt.title('Silhouette Score for K-Means (Clustering)')\n",
    "\n",
    "    plt.tight_layout()\n",
    "    plt.show()\n",
    "else:\n",
    "    print(\"Không thể thực hiện K-Means do X_cluster không được tạo.\")"
   ]
  },
  {
   "cell_type": "code",
   "execution_count": null, # Sẽ được cập nhật khi chạy
   "id": "d0a1c259",
   "metadata": {},
   "outputs": [], # Sẽ được cập nhật khi chạy
   "source": [
    "if X_cluster is not None and not df_clustering.empty:\n",
    "    # Phân cụm KMeans với k=3 (ví dụ, dựa trên elbow/silhouette)\n",
    "    kmeans_final = KMeans(n_clusters=3, random_state=42, n_init=10)\n",
    "    labels_kmeans_final = kmeans_final.fit_predict(X_cluster)\n",
    "\n",
    "    # Thêm nhãn cụm vào df_clustering (đảm bảo index khớp nếu có dropna)\n",
    "    # Nếu X_cluster được tạo từ df_clustering sau khi dropna, index của df_clustering cần được reset\n",
    "    # hoặc dùng index gốc nếu X_cluster giữ được index đó.\n",
    "    # Hiện tại, X_num_cluster và about_embeddings_reduced_cluster không giữ index gốc.\n",
    "    # Cách đơn giản là gán lại cho df_clustering nếu số dòng khớp.\n",
    "    if len(labels_kmeans_final) == df_clustering.shape[0]:\n",
    "        df_clustering['kmeans_cluster'] = labels_kmeans_final\n",
    "        # Thống kê số lượng điểm trong mỗi cụm\n",
    "        print(\"Số lượng điểm trong mỗi cụm K-Means:\")\n",
    "        print(df_clustering['kmeans_cluster'].value_counts())\n",
    "    else:\n",
    "        print(\"Lỗi: Số dòng của nhãn K-Means không khớp với df_clustering.\")\n",
    "else:\n",
    "    print(\"Không thể gán nhãn K-Means do X_cluster hoặc df_clustering không hợp lệ.\")"
   ]
  },
  {
   "cell_type": "code",
   "execution_count": null, # Sẽ được cập nhật khi chạy
   "id": "f87dba12",
   "metadata": {},
   "outputs": [], # Sẽ được cập nhật khi chạy
   "source": [
    "if X_cluster is not None and 'kmeans_cluster' in df_clustering.columns:\n",
    "    # Giảm chiều dữ liệu xuống 2 thành phần chính với PCA\n",
    "    pca_cluster_viz = PCA(n_components=2, random_state=42)\n",
    "    X_pca_cluster = pca_cluster_viz.fit_transform(X_cluster)\n",
    "\n",
    "    # Vẽ scatter plot, mỗi cụm một màu\n",
    "    plt.figure(figsize=(8,6))\n",
    "    scatter_km = plt.scatter(X_pca_cluster[:,0], X_pca_cluster[:,1], c=df_clustering['kmeans_cluster'], cmap='Set1', alpha=0.7)\n",
    "    plt.xlabel('PC1')\n",
    "    plt.ylabel('PC2')\n",
    "    plt.title('KMeans Clusters Visualization (PCA 2D) for Clustering')\n",
    "    plt.legend(*scatter_km.legend_elements(), title=\"Cluster\")\n",
    "    plt.grid(True)\n",
    "    plt.show()\n",
    "else:\n",
    "    print(\"Không thể trực quan hóa K-Means.\")"
   ]
  },
  {
   "cell_type": "code",
   "execution_count": null, # Sẽ được cập nhật khi chạy
   "id": "96b28ad5",
   "metadata": {},
   "outputs": [], # Sẽ được cập nhật khi chạy
   "source": [
    "if X_cluster is not None and 'kmeans_cluster' in df_clustering.columns:\n",
    "    sil_score_km = silhouette_score(X_cluster, df_clustering['kmeans_cluster'])\n",
    "    db_score_km = davies_bouldin_score(X_cluster, df_clustering['kmeans_cluster'])\n",
    "    print(f\"Silhouette Score (K-Means): {sil_score_km:.3f}\")\n",
    "    print(f\"Davies-Bouldin Index (K-Means): {db_score_km:.3f}\")\n",
    "\n",
    "    # Thống kê đặc trưng từng cụm K-Means\n",
    "    print(df_clustering.groupby('kmeans_cluster')[['discounted_price', 'rating']].mean())\n",
    "    print(df_clustering['kmeans_cluster'].value_counts())\n",
    "else:\n",
    "    print(\"Không thể đánh giá K-Means.\")"
   ]
  },
  {
   "cell_type": "markdown",
   "id": "5da7323f",
   "metadata": {},
   "source": [
    "Gán nhãn cho các cụm KMeans:\n",
    "\n",
    "Cụm 0: \"Sản phẩm giá thấp, chất lượng kém\" (336 sản phẩm - 24%).\n",
    "Đặc điểm: Giá thấp hơn trung bình, đánh giá rất thấp.\n",
    "Ý nghĩa: Sản phẩm giá rẻ nhưng chất lượng không được đánh giá cao.\n",
    "Đáp ứng câu hỏi: Phát hiện sản phẩm được \"định giá không hợp lý\" - giá có thể phù hợp nhưng chất lượng kém.\n",
    "\n",
    "Cụm 1: \"Sản phẩm giá trị tốt\" (931 sản phẩm - 67%).\n",
    "Đặc điểm: Giá thấp hơn trung bình, đánh giá cao hơn trung bình.\n",
    "Ý nghĩa: Đây là phân khúc \"value for money\" - giá cả phải chăng nhưng chất lượng tốt.\n",
    "Đáp ứng câu hỏi: Xác định được nhóm sản phẩm mang lại \"giá trị tốt nhất\" và có thể là \"món hời tiềm ẩn\".\n",
    "\n",
    "Cụm 2: \"Sản phẩm cao cấp\" (127 sản phẩm - 9%).\n",
    "Đặc điểm: Giá cao hơn trung bình rất nhiều, đánh giá cao hơn trung bình.\n",
    "Ý nghĩa: Sản phẩm cao cấp, giá cao nhưng chất lượng được đánh giá tốt.\n",
    "Đáp ứng câu hỏi: Phân biệt được nhóm sản phẩm \"cao cấp\" với các phân khúc khác."
   ]
  },
  {
   "cell_type": "markdown",
   "id": "1e85f6ba",
   "metadata": {},
   "source": [
    "# 8. Phân cụm phân cấp "
   ]
  },
  {
   "cell_type": "code",
   "execution_count": null, # Sẽ được cập nhật khi chạy
   "id": "4b45c811",
   "metadata": {},
   "outputs": [], # Sẽ được cập nhật khi chạy
   "source": [
    "if X_cluster is not None:\n",
    "    # Lấy mẫu ngẫu nhiên (nếu dữ liệu quá lớn)\n",
    "    sample_size_hc = min(500, X_cluster.shape[0])\n",
    "    indices_hc = np.random.choice(X_cluster.shape[0], sample_size_hc, replace=False)\n",
    "    X_sample_hc = X_cluster[indices_hc]\n",
    "\n",
    "    linkage_methods = ['ward', 'complete', 'average', 'single']\n",
    "    affinity_metrics = ['euclidean', 'cosine']\n",
    "\n",
    "    fig, axes = plt.subplots(nrows=len(linkage_methods), \n",
    "                             ncols=len(affinity_metrics), \n",
    "                             figsize=(15, 12), \n",
    "                             sharex=False, sharey=False)\n",
    "    fig.tight_layout(pad=4.0)\n",
    "\n",
    "    for i, method in enumerate(linkage_methods):\n",
    "        for j, metric in enumerate(affinity_metrics):\n",
    "            ax = axes[i, j]\n",
    "            if method == 'ward' and metric != 'euclidean':\n",
    "                ax.axis('off')\n",
    "                ax.set_title(f\"{method} + {metric}\\n(SKIP: ward chỉ hỗ trợ euclidean)\", fontsize=9)\n",
    "                continue\n",
    "            try:\n",
    "                Z = linkage(X_sample_hc, method=method, metric=metric)\n",
    "            except Exception as e:\n",
    "                ax.axis('off')\n",
    "                ax.set_title(f\"{method} + {metric}\\n(Lỗi: {e})\", fontsize=9)\n",
    "                continue\n",
    "            dendrogram(Z, ax=ax, orientation='top', distance_sort='descending', \n",
    "                       show_leaf_counts=False, truncate_mode='lastp', p=30)\n",
    "            ax.set_title(f\"{method} + {metric}\", fontsize=10)\n",
    "            ax.set_ylabel(\"Khoảng cách\")\n",
    "            ax.set_xticks([])\n",
    "\n",
    "    plt.subplots_adjust(hspace=0.6, wspace=0.4)\n",
    "    plt.suptitle(\"So sánh Dendrogram cho các Tổ hợp linkage–metric (Clustering)\", y=1.02, fontsize=14)\n",
    "    plt.show()\n",
    "else:\n",
    "    print(\"Không thể vẽ dendrogram do X_cluster không được tạo.\")"
   ]
  },
  {
   "cell_type": "code",
   "execution_count": null, # Sẽ được cập nhật khi chạy
   "id": "33fba45f",
   "metadata": {},
   "outputs": [],
   "source": [
    "best_method = 'ward'\n",
    "best_affinity = 'euclidean'"
   ]
  },
  {
   "cell_type": "code",
   "execution_count": null, # Sẽ được cập nhật khi chạy
   "id": "c4afe8e9",
   "metadata": {},
   "outputs": [], # Sẽ được cập nhật khi chạy
   "source": [
    "if X_cluster is not None and not df_clustering.empty:\n",
    "    # Phân cụm phân cấp với phương pháp tốt nhất\n",
    "    agglo = AgglomerativeClustering(n_clusters=3, metric=best_affinity, linkage=best_method)\n",
    "    agglo_labels = agglo.fit_predict(X_cluster)\n",
    "    \n",
    "    if len(agglo_labels) == df_clustering.shape[0]:\n",
    "        df_clustering['agglo_cluster'] = agglo_labels\n",
    "    else:\n",
    "        print(\"Lỗi: Số dòng của nhãn Agglomerative không khớp với df_clustering.\")\n",
    "        if 'agglo_cluster' in df_clustering.columns: df_clustering.drop('agglo_cluster', axis=1, inplace=True) # Xóa cột nếu có lỗi\n",
    "else:\n",
    "    print(\"Không thể thực hiện Agglomerative Clustering do X_cluster hoặc df_clustering không hợp lệ.\")"
   ]
  },
  {
   "cell_type": "code",
   "execution_count": null, # Sẽ được cập nhật khi chạy
   "id": "b1615c16",
   "metadata": {},
   "outputs": [], # Sẽ được cập nhật khi chạy
   "source": [
    "if X_cluster is not None and 'agglo_cluster' in df_clustering.columns:\n",
    "    # Trực quan hóa kết quả phân cụm phân cấp (X_pca_cluster đã được tạo ở phần K-Means)\n",
    "    plt.figure(figsize=(10, 8))\n",
    "    scatter_agglo = plt.scatter(X_pca_cluster[:,0], X_pca_cluster[:,1], c=df_clustering['agglo_cluster'], cmap='viridis', alpha=0.7)\n",
    "    plt.xlabel('PC1')\n",
    "    plt.ylabel('PC2')\n",
    "    plt.title(f'Agglomerative Clusters (method={best_method}, n_clusters=3) for Clustering')\n",
    "    plt.colorbar(scatter_agglo, label='Cluster')\n",
    "    plt.grid(True)\n",
    "    plt.show()\n",
    "else:\n",
    "    print(\"Không thể trực quan hóa Agglomerative Clustering.\")"
   ]
  },
  {
   "cell_type": "code",
   "execution_count": null, # Sẽ được cập nhật khi chạy
   "id": "1863dd54",
   "metadata": {},
   "outputs": [], # Sẽ được cập nhật khi chạy
   "source": [
    "if X_cluster is not None and 'agglo_cluster' in df_clustering.columns:\n",
    "    # Đánh giá kết quả phân cụm\n",
    "    sil_score_agglo = silhouette_score(X_cluster, df_clustering['agglo_cluster'])\n",
    "    db_score_agglo = davies_bouldin_score(X_cluster, df_clustering['agglo_cluster'])\n",
    "    print(f\"Silhouette Score (Agglomerative - {best_method}): {sil_score_agglo:.3f}\")\n",
    "    print(f\"Davies-Bouldin Index (Agglomerative - {best_method}): {db_score_agglo:.3f}\")\n",
    "\n",
    "    # Thống kê đặc trưng từng cụm Agglomerative\n",
    "    print(\"\\nThống kê đặc trưng từng cụm Agglomerative:\")\n",
    "    print(df_clustering.groupby('agglo_cluster')[['discounted_price', 'rating']].mean())\n",
    "    print(df_clustering['agglo_cluster'].value_counts())\n",
    "else:\n",
    "    print(\"Không thể đánh giá Agglomerative Clustering.\")"
   ]
  },
  {
   "cell_type": "markdown",
   "id": "a0b657db",
   "metadata": {},
   "source": [
    "Diễn giải và gán nhãn cho các cụm (Agglomerative):\n",
    "\n",
    "Cụm 0: \"Sản phẩm đại trà, chất lượng trung bình-thấp\" (738 sản phẩm - 53%)\n",
    "Đặc điểm: Giá thấp hơn trung bình, đánh giá thấp hơn trung bình\n",
    "Khác biệt với KMeans: Đây là cụm lớn nhất, nhưng rating không quá thấp như cụm 0 của KMeans\n",
    "Ý nghĩa: Sản phẩm phổ thông, giá rẻ, chất lượng tương đối phù hợp với giá tiền\n",
    "\n",
    "Cụm 1: \"Sản phẩm cao cấp\" (124 sản phẩm - 9%)\n",
    "Đặc điểm: Giá cao hơn trung bình rất nhiều (~2.8 độ lệch chuẩn), đánh giá chỉ nhỉnh hơn trung bình một chút\n",
    "Khác biệt với KMeans: Gần như giống hệt cụm 2 của KMeans\n",
    "Ý nghĩa: Sản phẩm cao cấp nhưng có vẻ bị định giá cao so với chất lượng thực tế cảm nhận\n",
    "\n",
    "Cụm 2: \"Sản phẩm giá trị tốt nhất\" (532 sản phẩm - 38%)\n",
    "Đặc điểm: Giá thấp hơn trung bình, nhưng rating cao hơn trung bình rất nhiều\n",
    "Khác biệt với KMeans: Rating cao hơn hẳn (0.85 so với 0.44)\n",
    "Ý nghĩa: Đây là những sản phẩm \"món hời\" thực sự - giá thấp nhưng chất lượng được đánh giá rất cao"
   ]
  },
  # --- MỚI THÊM VÀO: Bắt đầu phần mô hình Hồi quy và Phân loại ---
  {
   "cell_type": "markdown",
   "id": "ml_section_start",
   "metadata": {},
   "source": [
    "# 9. XÂY DỰNG MÔ HÌNH HỒI QUY VÀ PHÂN LOẠI"
   ]
  },
  {
   "cell_type": "markdown",
   "id": "ml_data_prep_markdown",
   "metadata": {},
   "source": [
    "## 9.1. Chuẩn bị dữ liệu cho mô hình Hồi quy và Phân loại\n",
    "\n",
    "Sử dụng `df_processed` làm cơ sở, tạo một bản sao `df_model_ml` để chuẩn bị dữ liệu riêng cho các mô hình này."
   ]
  },
  {
   "cell_type": "code",
   "execution_count": null,
   "id": "ml_data_prep_code",
   "metadata": {},
   "outputs": [],
   "source": [
    "df_model_ml = df_processed.copy()\n",
    "\n",
    "# --- Kiểm tra và làm sạch lại các cột số cần thiết cho mô hình ML ---\n",
    "cols_to_ensure_numeric = ['discounted_price', 'actual_price', 'discount_percentage', 'rating', 'rating_count']\n",
    "for col in cols_to_ensure_numeric:\n",
    "    if col in df_model_ml.columns:\n",
    "        df_model_ml[col] = pd.to_numeric(df_model_ml[col], errors='coerce')\n",
    "        if df_model_ml[col].isnull().any():\n",
    "             # Điền NaN bằng trung vị cho các cột số (hoặc trung bình)\n",
    "            df_model_ml[col].fillna(df_model_ml[col].median(), inplace=True)\n",
    "    else:\n",
    "        print(f\"Cảnh báo: Cột {col} không tìm thấy trong df_model_ml.\")\n",
    "\n",
    "# --- Feature Engineering cho mô hình phân loại ---\n",
    "if 'actual_price' in df_model_ml.columns and 'discounted_price' in df_model_ml.columns:\n",
    "    df_model_ml['price_diff'] = df_model_ml['actual_price'] - df_model_ml['discounted_price']\n",
    "    df_model_ml['price_ratio'] = np.where(df_model_ml['actual_price'] != 0, \n",
    "                                       df_model_ml['discounted_price'] / df_model_ml['actual_price'], \n",
    "                                       0) # Hoặc np.nan rồi fillna sau\n",
    "else:\n",
    "    print(\"Cảnh báo: Thiếu cột 'actual_price' hoặc 'discounted_price' để tạo features mới.\")\n",
    "    df_model_ml['price_diff'] = 0 # Giá trị mặc định nếu thiếu cột\n",
    "    df_model_ml['price_ratio'] = 0\n",
    "\n",
    "# --- Tạo biến mục tiêu cho Phân loại ---\n",
    "if 'rating' in df_model_ml.columns:\n",
    "    df_model_ml['rating_label'] = df_model_ml['rating'].apply(lambda x: 1 if x >= 4.0 else 0)\n",
    "else:\n",
    "    print(\"Cảnh báo: Thiếu cột 'rating' để tạo nhãn phân loại.\")\n",
    "    df_model_ml['rating_label'] = 0 # Giá trị mặc định\n",
    "\n",
    "# --- Mã hóa One-Hot cho 'main_category' ---\n",
    "if 'main_category' in df_model_ml.columns:\n",
    "    df_model_ml = pd.get_dummies(df_model_ml, columns=['main_category'], prefix='cat', dummy_na=False)\n",
    "else:\n",
    "    print(\"Cảnh báo: Thiếu cột 'main_category' để mã hóa.\")\n",
    "\n",
    "# --- Loại bỏ các cột không cần thiết cho mô hình ---\n",
    "cols_to_drop = ['product_id', 'product_name', 'category', 'about_product', \n",
    "                  'user_id', 'user_name', 'review_id', 'review_title', \n",
    "                  'review_content', 'img_link', 'product_link', 'specific_category']\n",
    "df_model_ml.drop(columns=[col for col in cols_to_drop if col in df_model_ml.columns], inplace=True)\n",
    "\n",
    "# --- Loại bỏ các dòng có NaN còn sót lại (quan trọng trước khi scale/huấn luyện) ---\n",
    "print(f\"Kích thước df_model_ml trước khi dropna cuối cùng: {df_model_ml.shape}\")\n",
    "df_model_ml.dropna(inplace=True)\n",
    "print(f\"Kích thước df_model_ml sau khi dropna cuối cùng: {df_model_ml.shape}\")\n",
    "\n",
    "df_model_ml.info()\n",
    "df_model_ml.head()"
   ]
  },
  {
   "cell_type": "markdown",
   "id": "regression_models_markdown",
   "metadata": {},
   "source": [
    "## 9.2. Các Mô Hình Hồi Quy: Dự đoán `discounted_price`"
   ]
  },
  {
   "cell_type": "code",
   "execution_count": null,
   "id": "regression_data_prep_code",
   "metadata": {},
   "source": [
    "print(\"Câu hỏi hồi quy: Dựa vào giá gốc, % giảm giá, điểm đánh giá, số lượt đánh giá và danh mục chính, hãy dự đoán giá đã giảm của sản phẩm?\")\n",
    "\n",
    "# Chọn features cho hồi quy\n",
    "cat_cols_reg = [col for col in df_model_ml.columns if col.startswith('cat_')]\n",
    "num_features_reg = ['actual_price', 'discount_percentage', 'rating', 'rating_count']\n",
    "X_reg_cols = num_features_reg + cat_cols_reg\n",
    "\n",
    "# Đảm bảo tất cả các cột features tồn tại\n",
    "X_reg_cols = [col for col in X_reg_cols if col in df_model_ml.columns]\n",
    "\n",
    "if 'discounted_price' in df_model_ml.columns and all(col in df_model_ml.columns for col in X_reg_cols):\n",
    "    X_reg = df_model_ml[X_reg_cols]\n",
    "    y_reg = df_model_ml['discounted_price']\n",
    "\n",
    "    X_reg_train, X_reg_test, y_reg_train, y_reg_test = train_test_split(X_reg, y_reg, test_size=0.2, random_state=42)\n",
    "\n",
    "    # Chuẩn hóa các cột số\n",
    "    scaler_reg = StandardScaler()\n",
    "    X_reg_train_scaled = X_reg_train.copy()\n",
    "    X_reg_test_scaled = X_reg_test.copy()\n",
    "\n",
    "    X_reg_train_scaled[num_features_reg] = scaler_reg.fit_transform(X_reg_train[num_features_reg])\n",
    "    X_reg_test_scaled[num_features_reg] = scaler_reg.transform(X_reg_test[num_features_reg])\n",
    "\n",
    "    print(f\"Số lượng features cho hồi quy: {X_reg_train_scaled.shape[1]}\")\n",
    "    print(f\"Kích thước tập huấn luyện hồi quy: {X_reg_train_scaled.shape}, Nhãn: {y_reg_train.shape}\")\n",
    "    print(f\"Kích thước tập kiểm tra hồi quy: {X_reg_test_scaled.shape}, Nhãn: {y_reg_test.shape}\")\n",
    "else:\n",
    "    print(\"Lỗi: Thiếu cột 'discounted_price' hoặc các cột features cần thiết cho mô hình hồi quy.\")\n",
    "    X_reg_train_scaled, X_reg_test_scaled, y_reg_train, y_reg_test = [None]*4 # Để tránh lỗi ở các cell sau"
   ]
  },
  {
   "cell_type": "markdown",
   "id": "linear_regression_markdown",
   "metadata": {},
   "source": [
    "### 9.2.1. Hồi quy Tuyến tính (Linear Regression)"
   ]
  },
  {
   "cell_type": "code",
   "execution_count": null,
   "id": "linear_regression_code",
   "metadata": {},
   "outputs": [],
   "source": [
    "if X_reg_train_scaled is not None:\n",
    "    lr_model = LinearRegression()\n",
    "    lr_model.fit(X_reg_train_scaled, y_reg_train)\n",
    "    y_reg_pred_lr = lr_model.predict(X_reg_test_scaled)\n",
    "\n",
    "    lr_rmse = np.sqrt(mean_squared_error(y_reg_test, y_reg_pred_lr))\n",
    "    lr_r2 = r2_score(y_reg_test, y_reg_pred_lr)\n",
    "\n",
    "    print(f\"Linear Regression RMSE: {lr_rmse:.2f}\")\n",
    "    print(f\"Linear Regression R2 Score: {lr_r2:.4f}\")\n",
    "else:\n",
    "    print(\"Không thể huấn luyện Linear Regression do thiếu dữ liệu.\")"
   ]
  },
  {
   "cell_type": "markdown",
   "id": "ann_regression_markdown",
   "metadata": {},
   "source": [
    "### 9.2.2. Mạng Neural Nhân tạo (ANN) cho Hồi quy\n",
    "\n",
    "Cấu trúc ANN cho hồi quy:\n",
    "- **Input Layer:** Số neuron bằng số lượng features.\n",
    "- **Hidden Layer 1:** 128 neurons, hàm kích hoạt 'relu', Dropout 0.3 (ngăn overfitting).\n",
    "- **Hidden Layer 2:** 64 neurons, hàm kích hoạt 'relu', Dropout 0.3.\n",
    "- **Hidden Layer 3:** 32 neurons, hàm kích hoạt 'relu'.\n",
    "- **Output Layer:** 1 neuron (để dự đoán giá trị `discounted_price`), không có hàm kích hoạt (hoặc 'linear').\n",
    "\n",
    "Biên dịch mô hình:\n",
    "- **Optimizer:** 'adam'.\n",
    "- **Loss Function:** 'mean_squared_error' (MSE), phù hợp cho bài toán hồi quy.\n",
    "- **Metrics:** 'mean_absolute_error' (MAE) để theo dõi."
   ]
  },
  {
   "cell_type": "code",
   "execution_count": null,
   "id": "ann_regression_code",
   "metadata": {},
   "outputs": [],
   "source": [
    "if X_reg_train_scaled is not None:\n",
    "    input_dim_reg = X_reg_train_scaled.shape[1]\n",
    "    \n",
    "    ann_reg_model = Sequential([\n",
    "        Dense(128, activation='relu', input_shape=(input_dim_reg,)),\n",
    "        Dropout(0.3),\n",
    "        Dense(64, activation='relu'),\n",
    "        Dropout(0.3),\n",
    "        Dense(32, activation='relu'),\n",
    "        Dense(1) # Output layer for regression\n",
    "    ])\n",
    "\n",
    "    ann_reg_model.compile(optimizer='adam', loss='mean_squared_error', metrics=['mae'])\n",
    "    ann_reg_model.summary()\n",
    "\n",
    "    early_stopping = EarlyStopping(monitor='val_loss', patience=10, restore_best_weights=True)\n",
    "\n",
    "    history_reg = ann_reg_model.fit(\n",
    "        X_reg_train_scaled, y_reg_train,\n",
    "        epochs=100, \n",
    "        batch_size=32,\n",
    "        validation_split=0.2,\n",
    "        callbacks=[early_stopping],\n",
    "        verbose=1\n",
    "    )\n",
    "\n",
    "    y_reg_pred_ann = ann_reg_model.predict(X_reg_test_scaled).flatten()\n",
    "    ann_reg_rmse = np.sqrt(mean_squared_error(y_reg_test, y_reg_pred_ann))\n",
    "    ann_reg_r2 = r2_score(y_reg_test, y_reg_pred_ann)\n",
    "\n",
    "    print(f\"ANN Regression RMSE: {ann_reg_rmse:.2f}\")\n",
    "    print(f\"ANN Regression R2 Score: {ann_reg_r2:.4f}\")\n",
    "else:\n",
    "    print(\"Không thể huấn luyện ANN cho Hồi quy do thiếu dữ liệu.\")"
   ]
  },
  {
   "cell_type": "markdown",
   "id": "classification_models_markdown",
   "metadata": {},
   "source": [
    "## 9.3. Các Mô Hình Phân Loại: Dự đoán `rating_label`"
   ]
  },
  {
   "cell_type": "code",
   "execution_count": null,
   "id": "classification_data_prep_code",
   "metadata": {},
   "outputs": [],
   "source": [
    "print(\"Câu hỏi phân loại: Dựa vào các đặc điểm sản phẩm, hãy dự đoán xem sản phẩm đó có rating cao (>=4) hay không?\")\n",
    "\n",
    "# Chọn features cho phân loại\n",
    "cat_cols_cls = [col for col in df_model_ml.columns if col.startswith('cat_')]\n",
    "num_features_cls = ['discounted_price', 'actual_price', 'discount_percentage', 'rating_count', 'price_diff', 'price_ratio']\n",
    "X_cls_cols = num_features_cls + cat_cols_cls\n",
    "\n",
    "X_cls_cols = [col for col in X_cls_cols if col in df_model_ml.columns]\n",
    "\n",
    "if 'rating_label' in df_model_ml.columns and all(col in df_model_ml.columns for col in X_cls_cols):\n",
    "    X_cls = df_model_ml[X_cls_cols]\n",
    "    y_cls = df_model_ml['rating_label']\n",
    "\n",
    "    X_cls_train, X_cls_test, y_cls_train, y_cls_test = train_test_split(X_cls, y_cls, test_size=0.2, random_state=42, stratify=y_cls)\n",
    "\n",
    "    # Chuẩn hóa các cột số\n",
    "    scaler_cls = StandardScaler()\n",
    "    X_cls_train_scaled = X_cls_train.copy()\n",
    "    X_cls_test_scaled = X_cls_test.copy()\n",
    "\n",
    "    X_cls_train_scaled[num_features_cls] = scaler_cls.fit_transform(X_cls_train[num_features_cls])\n",
    "    X_cls_test_scaled[num_features_cls] = scaler_cls.transform(X_cls_test[num_features_cls])\n",
    "\n",
    "    print(f\"Số lượng features cho phân loại: {X_cls_train_scaled.shape[1]}\")\n",
    "    print(f\"Kích thước tập huấn luyện phân loại: {X_cls_train_scaled.shape}, Nhãn: {y_cls_train.shape}\")\n",
    "    print(f\"Kích thước tập kiểm tra phân loại: {X_cls_test_scaled.shape}, Nhãn: {y_cls_test.shape}\")\n",
    "    print(f\"Phân phối nhãn trong tập huấn luyện:\\n{y_cls_train.value_counts(normalize=True)}\")\n",
    "else:\n",
    "    print(\"Lỗi: Thiếu cột 'rating_label' hoặc các cột features cần thiết cho mô hình phân loại.\")\n",
    "    X_cls_train_scaled, X_cls_test_scaled, y_cls_train, y_cls_test = [None]*4"
   ]
  },
  {
   "cell_type": "markdown",
   "id": "logistic_regression_markdown",
   "metadata": {},
   "source": [
    "### 9.3.1. Hồi quy Logistic (Logistic Regression)"
   ]
  },
  {
   "cell_type": "code",
   "execution_count": null,
   "id": "logistic_regression_code",
   "metadata": {},
   "outputs": [],
   "source": [
    "if X_cls_train_scaled is not None:\n",
    "    logreg_model = LogisticRegression(random_state=42, max_iter=1000, solver='liblinear')\n",
    "    logreg_model.fit(X_cls_train_scaled, y_cls_train)\n",
    "    y_cls_pred_logreg = logreg_model.predict(X_cls_test_scaled)\n",
    "\n",
    "    logreg_accuracy = accuracy_score(y_cls_test, y_cls_pred_logreg)\n",
    "    print(f\"Logistic Regression Accuracy: {logreg_accuracy:.4f}\")\n",
    "    print(\"Classification Report (Logistic Regression):\\n\", classification_report(y_cls_test, y_cls_pred_logreg))\n",
    "    print(\"Confusion Matrix (Logistic Regression):\\n\", confusion_matrix(y_cls_test, y_cls_pred_logreg))\n",
    "else:\n",
    "    print(\"Không thể huấn luyện Logistic Regression do thiếu dữ liệu.\")"
   ]
  },
  {
   "cell_type": "markdown",
   "id": "ann_classification_markdown",
   "metadata": {},
   "source": [
    "### 9.3.2. Mạng Neural Nhân tạo (ANN) cho Phân loại\n",
    "\n",
    "Cấu trúc ANN cho phân loại nhị phân:\n",
    "- **Input Layer:** Số neuron bằng số lượng features.\n",
    "- **Hidden Layer 1:** 128 neurons, hàm kích hoạt 'relu', Dropout 0.4.\n",
    "- **Hidden Layer 2:** 64 neurons, hàm kích hoạt 'relu', Dropout 0.4.\n",
    "- **Hidden Layer 3:** 32 neurons, hàm kích hoạt 'relu'.\n",
    "- **Output Layer:** 1 neuron (cho phân loại nhị phân), hàm kích hoạt 'sigmoid' (đưa ra xác suất từ 0 đến 1).\n",
    "\n",
    "Biên dịch mô hình:\n",
    "- **Optimizer:** 'adam'.\n",
    "- **Loss Function:** 'binary_crossentropy', phù hợp cho bài toán phân loại nhị phân.\n",
    "- **Metrics:** 'accuracy'."
   ]
  },
  {
   "cell_type": "code",
   "execution_count": null,
   "id": "ann_classification_code",
   "metadata": {},
   "outputs": [],
   "source": [
    "if X_cls_train_scaled is not None:\n",
    "    input_dim_cls = X_cls_train_scaled.shape[1]\n",
    "\n",
    "    ann_cls_model = Sequential([\n",
    "        Dense(128, activation='relu', input_shape=(input_dim_cls,)),\n",
    "        Dropout(0.4),\n",
    "        Dense(64, activation='relu'),\n",
    "        Dropout(0.4),\n",
    "        Dense(32, activation='relu'),\n",
    "        Dense(1, activation='sigmoid') # Output layer for binary classification\n",
    "    ])\n",
    "\n",
    "    ann_cls_model.compile(optimizer='adam', loss='binary_crossentropy', metrics=['accuracy'])\n",
    "    ann_cls_model.summary()\n",
    "\n",
    "    early_stopping_cls = EarlyStopping(monitor='val_loss', patience=10, restore_best_weights=True)\n",
    "\n",
    "    history_cls = ann_cls_model.fit(\n",
    "        X_cls_train_scaled, y_cls_train,\n",
    "        epochs=100,\n",
    "        batch_size=32,\n",
    "        validation_split=0.2,\n",
    "        callbacks=[early_stopping_cls],\n",
    "        verbose=1\n",
    "    )\n",
    "\n",
    "    y_cls_pred_prob_ann = ann_cls_model.predict(X_cls_test_scaled)\n",
    "    y_cls_pred_ann = (y_cls_pred_prob_ann > 0.5).astype(int).flatten()\n",
    "\n",
    "    ann_cls_accuracy = accuracy_score(y_cls_test, y_cls_pred_ann)\n",
    "    print(f\"ANN Classification Accuracy: {ann_cls_accuracy:.4f}\")\n",
    "    print(\"Classification Report (ANN Classification):\\n\", classification_report(y_cls_test, y_cls_pred_ann))\n",
    "    print(\"Confusion Matrix (ANN Classification):\\n\", confusion_matrix(y_cls_test, y_cls_pred_ann))\n",
    "else:\n",
    "    print(\"Không thể huấn luyện ANN cho Phân loại do thiếu dữ liệu.\")"
   ]
  },
  {
   "cell_type": "markdown",
   "id": "model_comparison_markdown",
   "metadata": {},
   "source": [
    "## 9.4. So sánh và Kết luận Mô hình"
   ]
  },
  {
   "cell_type": "code",
   "execution_count": null,
   "id": "model_comparison_code",
   "metadata": {},
   "outputs": [],
   "source": [
    "print(\"--- KẾT QUẢ MÔ HÌNH HỒI QUY ---\")\n",
    "if 'lr_rmse' in locals(): # Kiểm tra biến tồn tại\n",
    "    print(f\"Hồi quy Tuyến tính - RMSE: {lr_rmse:.2f}, R2: {lr_r2:.4f}\")\n",
    "if 'ann_reg_rmse' in locals():\n",
    "    print(f\"ANN Hồi quy - RMSE: {ann_reg_rmse:.2f}, R2: {ann_reg_r2:.4f}\")\n",
    "\n",
    "print(\"\\n--- KẾT QUẢ MÔ HÌNH PHÂN LOẠI ---\")\n",
    "if 'logreg_accuracy' in locals():\n",
    "    print(f\"Hồi quy Logistic - Accuracy: {logreg_accuracy:.4f}\")\n",
    "    print(classification_report(y_cls_test, y_cls_pred_logreg))\n",
    "if 'ann_cls_accuracy' in locals():\n",
    "    print(f\"ANN Phân loại - Accuracy: {ann_cls_accuracy:.4f}\")\n",
    "    print(classification_report(y_cls_test, y_cls_pred_ann))\n",
    "\n",
    "print(\"\\n--- NHẬN XÉT ---\")\n",
    "print(\"1. Hồi quy (Dự đoán discounted_price):\")\n",
    "print(\"   - Mô hình ANN thường có khả năng học các mối quan hệ phức tạp tốt hơn hồi quy tuyến tính, có thể dẫn đến RMSE thấp hơn và R2 cao hơn nếu được tinh chỉnh tốt.\")\n",
    "print(\"   - Hồi quy tuyến tính đơn giản, dễ diễn giải và là một baseline tốt.\")\n",
    "print(\"2. Phân loại (Dự đoán rating_label):\")\n",
    "print(\"   - Cả Logistic Regression và ANN đều là các lựa chọn phổ biến cho phân loại nhị phân.\")\n",
    "print(\"   - ANN có thể đạt độ chính xác cao hơn trên các tập dữ liệu lớn và có cấu trúc phức tạp, nhưng cần nhiều dữ liệu và thời gian huấn luyện hơn, cũng như dễ overfitting.\")\n",
    "print(\"   - Logistic Regression nhanh, dễ diễn giải và hoạt động tốt trên các tập dữ liệu có mối quan hệ tuyến tính hoặc gần tuyến tính.\")\n",
    "print(\"3. Hướng cải thiện:\")\n",
    "print(\"   - Với ANN: Thử nghiệm các kiến trúc mạng khác nhau (số lớp, số neuron, hàm kích hoạt, tỷ lệ dropout), các optimizer khác, và các kỹ thuật regularization.\")\n",
    "print(\"   - Feature Engineering: Tạo thêm các features có ý nghĩa từ dữ liệu hiện có.\")\n",
    "print(\"   - Xử lý dữ liệu văn bản: Sử dụng các kỹ thuật NLP nâng cao hơn (Word Embeddings như Word2Vec, FastText, hoặc các mô hình Transformer) cho cột 'about_product' hoặc 'review_content' để trích xuất features cho mô hình.\")\n",
    "print(\"   - Cross-validation: Sử dụng k-fold cross-validation để đánh giá mô hình một cách đáng tin cậy hơn.\")\n",
    "print(\"   - So sánh với các thuật toán khác: Random Forest, Gradient Boosting, SVM...\")"
   ]
  }
  # --- Kết thúc phần MỚI THÊM VÀO ---
 ],
 "metadata": {
  "kernelspec": {
   "display_name": "Python 3",
   "language": "python",
   "name": "python3"
  },
  "language_info": {
   "codemirror_mode": {
    "name": "ipython",
    "version": 3
   },
   "file_extension": ".py",
   "mimetype": "text/x-python",
   "name": "python",
   "nbconvert_exporter": "python",
   "pygments_lexer": "ipython3",
   "version": "3.9.8" # Hoặc phiên bản Python của bạn
  }
 },
 "nbformat": 4,
 "nbformat_minor": 5
}