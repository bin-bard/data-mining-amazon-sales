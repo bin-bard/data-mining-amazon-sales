{
 "cells": [
  {
   "cell_type": "markdown",
   "id": "5c2de7ee",
   "metadata": {},
   "source": [
    "# 🎯 Mục tiêu dự án với tập dữ liệu Amazon Sale Report\n",
    "## 🔍 1. Mục tiêu tổng quát\n",
    "Khai phá dữ liệu bán hàng để phát hiện các yếu tố ảnh hưởng đến trạng thái đơn hàng, doanh thu và hiệu suất giao hàng.\n",
    "\n",
    "Dự đoán kết quả trong tương lai như: đơn hàng có bị hủy hay không, hoặc doanh thu của một đơn hàng.\n",
    "\n",
    "Đề xuất giải pháp cải thiện hoạt động kinh doanh: tối ưu hóa vận chuyển, giảm đơn hàng bị hủy, tăng doanh thu.\n",
    "\n",
    "## 🧩 2. Các câu hỏi nghiên cứu có thể đặt ra\n",
    "\n",
    "\n",
    "📊 Phân tích mô tả\t\n",
    "- Sản phẩm nào bán chạy nhất?\n",
    "- Thành phố nào có doanh số cao nhất?\n",
    "- Tỷ lệ đơn hàng bị hủy là bao nhiêu?\n",
    "- Những yếu tố nào thường xuất hiện trong các đơn bị hủy?\n",
    "\n",
    "📈 Hồi quy\t\n",
    "- Những yếu tố nào ảnh hưởng đến doanh thu (Amount)?\n",
    "- Có thể dự đoán doanh thu của một đơn hàng dựa trên sản phẩm, khu vực, kiểu giao hàng...?\n",
    "\n",
    "🧠 Phân loại\t\n",
    "- Đơn hàng này có bị hủy (Cancelled) không?\n",
    "- Mô hình có thể phân loại trạng thái đơn hàng dựa trên thông tin đầu vào như thành phố, SKU, dịch vụ vận chuyển...?\n",
    "\n",
    "\n",
    "## 🧪 3. Mục đích xây dựng mô hình\n",
    "✅ Hồi quy (Regression)\tDự đoán số tiền (Amount) của một đơn hàng dựa trên các đặc trưng như loại hàng, thành phố, dịch vụ vận chuyển\n",
    "\n",
    "✅ Phân loại (Classification)\tPhân loại trạng thái đơn hàng: Shipped, Delivered, Cancelled, v.v.\n"
   ]
  },
  {
   "cell_type": "markdown",
   "id": "c5a9f99a",
   "metadata": {},
   "source": [
    "# Triển Khai"
   ]
  },
  {
   "cell_type": "markdown",
   "id": "c0ec0cb1",
   "metadata": {},
   "source": [
    "### Đọc và xem dữ liệu"
   ]
  },
  {
   "cell_type": "code",
   "execution_count": 271,
   "id": "2172e117",
   "metadata": {},
   "outputs": [
    {
     "name": "stdout",
     "output_type": "stream",
     "text": [
      "🔹 Kích thước dữ liệu: (128975, 24)\n"
     ]
    },
    {
     "name": "stderr",
     "output_type": "stream",
     "text": [
      "C:\\Users\\ADMIN\\AppData\\Local\\Temp\\ipykernel_21728\\2360503588.py:4: DtypeWarning: Columns (23) have mixed types. Specify dtype option on import or set low_memory=False.\n",
      "  df = pd.read_csv(\"Amazon Sale Report.csv\")\n"
     ]
    },
    {
     "data": {
      "text/html": [
       "<div>\n",
       "<style scoped>\n",
       "    .dataframe tbody tr th:only-of-type {\n",
       "        vertical-align: middle;\n",
       "    }\n",
       "\n",
       "    .dataframe tbody tr th {\n",
       "        vertical-align: top;\n",
       "    }\n",
       "\n",
       "    .dataframe thead th {\n",
       "        text-align: right;\n",
       "    }\n",
       "</style>\n",
       "<table border=\"1\" class=\"dataframe\">\n",
       "  <thead>\n",
       "    <tr style=\"text-align: right;\">\n",
       "      <th></th>\n",
       "      <th>index</th>\n",
       "      <th>Order ID</th>\n",
       "      <th>Date</th>\n",
       "      <th>Status</th>\n",
       "      <th>Fulfilment</th>\n",
       "      <th>Sales Channel</th>\n",
       "      <th>ship-service-level</th>\n",
       "      <th>Style</th>\n",
       "      <th>SKU</th>\n",
       "      <th>Category</th>\n",
       "      <th>...</th>\n",
       "      <th>currency</th>\n",
       "      <th>Amount</th>\n",
       "      <th>ship-city</th>\n",
       "      <th>ship-state</th>\n",
       "      <th>ship-postal-code</th>\n",
       "      <th>ship-country</th>\n",
       "      <th>promotion-ids</th>\n",
       "      <th>B2B</th>\n",
       "      <th>fulfilled-by</th>\n",
       "      <th>Unnamed: 22</th>\n",
       "    </tr>\n",
       "  </thead>\n",
       "  <tbody>\n",
       "    <tr>\n",
       "      <th>0</th>\n",
       "      <td>0</td>\n",
       "      <td>405-8078784-5731545</td>\n",
       "      <td>04-30-22</td>\n",
       "      <td>Cancelled</td>\n",
       "      <td>Merchant</td>\n",
       "      <td>Amazon.in</td>\n",
       "      <td>Standard</td>\n",
       "      <td>SET389</td>\n",
       "      <td>SET389-KR-NP-S</td>\n",
       "      <td>Set</td>\n",
       "      <td>...</td>\n",
       "      <td>INR</td>\n",
       "      <td>647.62</td>\n",
       "      <td>MUMBAI</td>\n",
       "      <td>MAHARASHTRA</td>\n",
       "      <td>400081.0</td>\n",
       "      <td>IN</td>\n",
       "      <td>NaN</td>\n",
       "      <td>False</td>\n",
       "      <td>Easy Ship</td>\n",
       "      <td>NaN</td>\n",
       "    </tr>\n",
       "    <tr>\n",
       "      <th>1</th>\n",
       "      <td>1</td>\n",
       "      <td>171-9198151-1101146</td>\n",
       "      <td>04-30-22</td>\n",
       "      <td>Shipped - Delivered to Buyer</td>\n",
       "      <td>Merchant</td>\n",
       "      <td>Amazon.in</td>\n",
       "      <td>Standard</td>\n",
       "      <td>JNE3781</td>\n",
       "      <td>JNE3781-KR-XXXL</td>\n",
       "      <td>kurta</td>\n",
       "      <td>...</td>\n",
       "      <td>INR</td>\n",
       "      <td>406.00</td>\n",
       "      <td>BENGALURU</td>\n",
       "      <td>KARNATAKA</td>\n",
       "      <td>560085.0</td>\n",
       "      <td>IN</td>\n",
       "      <td>Amazon PLCC Free-Financing Universal Merchant ...</td>\n",
       "      <td>False</td>\n",
       "      <td>Easy Ship</td>\n",
       "      <td>NaN</td>\n",
       "    </tr>\n",
       "    <tr>\n",
       "      <th>2</th>\n",
       "      <td>2</td>\n",
       "      <td>404-0687676-7273146</td>\n",
       "      <td>04-30-22</td>\n",
       "      <td>Shipped</td>\n",
       "      <td>Amazon</td>\n",
       "      <td>Amazon.in</td>\n",
       "      <td>Expedited</td>\n",
       "      <td>JNE3371</td>\n",
       "      <td>JNE3371-KR-XL</td>\n",
       "      <td>kurta</td>\n",
       "      <td>...</td>\n",
       "      <td>INR</td>\n",
       "      <td>329.00</td>\n",
       "      <td>NAVI MUMBAI</td>\n",
       "      <td>MAHARASHTRA</td>\n",
       "      <td>410210.0</td>\n",
       "      <td>IN</td>\n",
       "      <td>IN Core Free Shipping 2015/04/08 23-48-5-108</td>\n",
       "      <td>True</td>\n",
       "      <td>NaN</td>\n",
       "      <td>NaN</td>\n",
       "    </tr>\n",
       "    <tr>\n",
       "      <th>3</th>\n",
       "      <td>3</td>\n",
       "      <td>403-9615377-8133951</td>\n",
       "      <td>04-30-22</td>\n",
       "      <td>Cancelled</td>\n",
       "      <td>Merchant</td>\n",
       "      <td>Amazon.in</td>\n",
       "      <td>Standard</td>\n",
       "      <td>J0341</td>\n",
       "      <td>J0341-DR-L</td>\n",
       "      <td>Western Dress</td>\n",
       "      <td>...</td>\n",
       "      <td>INR</td>\n",
       "      <td>753.33</td>\n",
       "      <td>PUDUCHERRY</td>\n",
       "      <td>PUDUCHERRY</td>\n",
       "      <td>605008.0</td>\n",
       "      <td>IN</td>\n",
       "      <td>NaN</td>\n",
       "      <td>False</td>\n",
       "      <td>Easy Ship</td>\n",
       "      <td>NaN</td>\n",
       "    </tr>\n",
       "    <tr>\n",
       "      <th>4</th>\n",
       "      <td>4</td>\n",
       "      <td>407-1069790-7240320</td>\n",
       "      <td>04-30-22</td>\n",
       "      <td>Shipped</td>\n",
       "      <td>Amazon</td>\n",
       "      <td>Amazon.in</td>\n",
       "      <td>Expedited</td>\n",
       "      <td>JNE3671</td>\n",
       "      <td>JNE3671-TU-XXXL</td>\n",
       "      <td>Top</td>\n",
       "      <td>...</td>\n",
       "      <td>INR</td>\n",
       "      <td>574.00</td>\n",
       "      <td>CHENNAI</td>\n",
       "      <td>TAMIL NADU</td>\n",
       "      <td>600073.0</td>\n",
       "      <td>IN</td>\n",
       "      <td>NaN</td>\n",
       "      <td>False</td>\n",
       "      <td>NaN</td>\n",
       "      <td>NaN</td>\n",
       "    </tr>\n",
       "  </tbody>\n",
       "</table>\n",
       "<p>5 rows × 24 columns</p>\n",
       "</div>"
      ],
      "text/plain": [
       "   index             Order ID      Date                        Status  \\\n",
       "0      0  405-8078784-5731545  04-30-22                     Cancelled   \n",
       "1      1  171-9198151-1101146  04-30-22  Shipped - Delivered to Buyer   \n",
       "2      2  404-0687676-7273146  04-30-22                       Shipped   \n",
       "3      3  403-9615377-8133951  04-30-22                     Cancelled   \n",
       "4      4  407-1069790-7240320  04-30-22                       Shipped   \n",
       "\n",
       "  Fulfilment Sales Channel  ship-service-level    Style              SKU  \\\n",
       "0   Merchant      Amazon.in           Standard   SET389   SET389-KR-NP-S   \n",
       "1   Merchant      Amazon.in           Standard  JNE3781  JNE3781-KR-XXXL   \n",
       "2     Amazon      Amazon.in          Expedited  JNE3371    JNE3371-KR-XL   \n",
       "3   Merchant      Amazon.in           Standard    J0341       J0341-DR-L   \n",
       "4     Amazon      Amazon.in          Expedited  JNE3671  JNE3671-TU-XXXL   \n",
       "\n",
       "        Category  ... currency  Amount    ship-city   ship-state  \\\n",
       "0            Set  ...      INR  647.62       MUMBAI  MAHARASHTRA   \n",
       "1          kurta  ...      INR  406.00    BENGALURU    KARNATAKA   \n",
       "2          kurta  ...      INR  329.00  NAVI MUMBAI  MAHARASHTRA   \n",
       "3  Western Dress  ...      INR  753.33   PUDUCHERRY   PUDUCHERRY   \n",
       "4            Top  ...      INR  574.00      CHENNAI   TAMIL NADU   \n",
       "\n",
       "  ship-postal-code  ship-country  \\\n",
       "0         400081.0            IN   \n",
       "1         560085.0            IN   \n",
       "2         410210.0            IN   \n",
       "3         605008.0            IN   \n",
       "4         600073.0            IN   \n",
       "\n",
       "                                       promotion-ids    B2B  fulfilled-by  \\\n",
       "0                                                NaN  False     Easy Ship   \n",
       "1  Amazon PLCC Free-Financing Universal Merchant ...  False     Easy Ship   \n",
       "2       IN Core Free Shipping 2015/04/08 23-48-5-108   True           NaN   \n",
       "3                                                NaN  False     Easy Ship   \n",
       "4                                                NaN  False           NaN   \n",
       "\n",
       "  Unnamed: 22  \n",
       "0         NaN  \n",
       "1         NaN  \n",
       "2         NaN  \n",
       "3         NaN  \n",
       "4         NaN  \n",
       "\n",
       "[5 rows x 24 columns]"
      ]
     },
     "metadata": {},
     "output_type": "display_data"
    },
    {
     "name": "stdout",
     "output_type": "stream",
     "text": [
      "\n",
      "🔍 Thông tin các cột:\n"
     ]
    },
    {
     "data": {
      "text/html": [
       "<div>\n",
       "<style scoped>\n",
       "    .dataframe tbody tr th:only-of-type {\n",
       "        vertical-align: middle;\n",
       "    }\n",
       "\n",
       "    .dataframe tbody tr th {\n",
       "        vertical-align: top;\n",
       "    }\n",
       "\n",
       "    .dataframe thead th {\n",
       "        text-align: right;\n",
       "    }\n",
       "</style>\n",
       "<table border=\"1\" class=\"dataframe\">\n",
       "  <thead>\n",
       "    <tr style=\"text-align: right;\">\n",
       "      <th></th>\n",
       "      <th>Data Type</th>\n",
       "      <th>Missing Values</th>\n",
       "      <th>Unique Values</th>\n",
       "    </tr>\n",
       "  </thead>\n",
       "  <tbody>\n",
       "    <tr>\n",
       "      <th>index</th>\n",
       "      <td>int64</td>\n",
       "      <td>0</td>\n",
       "      <td>128975</td>\n",
       "    </tr>\n",
       "    <tr>\n",
       "      <th>Order ID</th>\n",
       "      <td>object</td>\n",
       "      <td>0</td>\n",
       "      <td>120378</td>\n",
       "    </tr>\n",
       "    <tr>\n",
       "      <th>Date</th>\n",
       "      <td>object</td>\n",
       "      <td>0</td>\n",
       "      <td>91</td>\n",
       "    </tr>\n",
       "    <tr>\n",
       "      <th>Status</th>\n",
       "      <td>object</td>\n",
       "      <td>0</td>\n",
       "      <td>13</td>\n",
       "    </tr>\n",
       "    <tr>\n",
       "      <th>Fulfilment</th>\n",
       "      <td>object</td>\n",
       "      <td>0</td>\n",
       "      <td>2</td>\n",
       "    </tr>\n",
       "    <tr>\n",
       "      <th>Sales Channel</th>\n",
       "      <td>object</td>\n",
       "      <td>0</td>\n",
       "      <td>2</td>\n",
       "    </tr>\n",
       "    <tr>\n",
       "      <th>ship-service-level</th>\n",
       "      <td>object</td>\n",
       "      <td>0</td>\n",
       "      <td>2</td>\n",
       "    </tr>\n",
       "    <tr>\n",
       "      <th>Style</th>\n",
       "      <td>object</td>\n",
       "      <td>0</td>\n",
       "      <td>1377</td>\n",
       "    </tr>\n",
       "    <tr>\n",
       "      <th>SKU</th>\n",
       "      <td>object</td>\n",
       "      <td>0</td>\n",
       "      <td>7195</td>\n",
       "    </tr>\n",
       "    <tr>\n",
       "      <th>Category</th>\n",
       "      <td>object</td>\n",
       "      <td>0</td>\n",
       "      <td>9</td>\n",
       "    </tr>\n",
       "    <tr>\n",
       "      <th>Size</th>\n",
       "      <td>object</td>\n",
       "      <td>0</td>\n",
       "      <td>11</td>\n",
       "    </tr>\n",
       "    <tr>\n",
       "      <th>ASIN</th>\n",
       "      <td>object</td>\n",
       "      <td>0</td>\n",
       "      <td>7190</td>\n",
       "    </tr>\n",
       "    <tr>\n",
       "      <th>Courier Status</th>\n",
       "      <td>object</td>\n",
       "      <td>6872</td>\n",
       "      <td>3</td>\n",
       "    </tr>\n",
       "    <tr>\n",
       "      <th>Qty</th>\n",
       "      <td>int64</td>\n",
       "      <td>0</td>\n",
       "      <td>10</td>\n",
       "    </tr>\n",
       "    <tr>\n",
       "      <th>currency</th>\n",
       "      <td>object</td>\n",
       "      <td>7795</td>\n",
       "      <td>1</td>\n",
       "    </tr>\n",
       "    <tr>\n",
       "      <th>Amount</th>\n",
       "      <td>float64</td>\n",
       "      <td>7795</td>\n",
       "      <td>1410</td>\n",
       "    </tr>\n",
       "    <tr>\n",
       "      <th>ship-city</th>\n",
       "      <td>object</td>\n",
       "      <td>33</td>\n",
       "      <td>8955</td>\n",
       "    </tr>\n",
       "    <tr>\n",
       "      <th>ship-state</th>\n",
       "      <td>object</td>\n",
       "      <td>33</td>\n",
       "      <td>69</td>\n",
       "    </tr>\n",
       "    <tr>\n",
       "      <th>ship-postal-code</th>\n",
       "      <td>float64</td>\n",
       "      <td>33</td>\n",
       "      <td>9459</td>\n",
       "    </tr>\n",
       "    <tr>\n",
       "      <th>ship-country</th>\n",
       "      <td>object</td>\n",
       "      <td>33</td>\n",
       "      <td>1</td>\n",
       "    </tr>\n",
       "    <tr>\n",
       "      <th>promotion-ids</th>\n",
       "      <td>object</td>\n",
       "      <td>49153</td>\n",
       "      <td>5787</td>\n",
       "    </tr>\n",
       "    <tr>\n",
       "      <th>B2B</th>\n",
       "      <td>bool</td>\n",
       "      <td>0</td>\n",
       "      <td>2</td>\n",
       "    </tr>\n",
       "    <tr>\n",
       "      <th>fulfilled-by</th>\n",
       "      <td>object</td>\n",
       "      <td>89698</td>\n",
       "      <td>1</td>\n",
       "    </tr>\n",
       "    <tr>\n",
       "      <th>Unnamed: 22</th>\n",
       "      <td>object</td>\n",
       "      <td>49050</td>\n",
       "      <td>1</td>\n",
       "    </tr>\n",
       "  </tbody>\n",
       "</table>\n",
       "</div>"
      ],
      "text/plain": [
       "                   Data Type  Missing Values  Unique Values\n",
       "index                  int64               0         128975\n",
       "Order ID              object               0         120378\n",
       "Date                  object               0             91\n",
       "Status                object               0             13\n",
       "Fulfilment            object               0              2\n",
       "Sales Channel         object               0              2\n",
       "ship-service-level    object               0              2\n",
       "Style                 object               0           1377\n",
       "SKU                   object               0           7195\n",
       "Category              object               0              9\n",
       "Size                  object               0             11\n",
       "ASIN                  object               0           7190\n",
       "Courier Status        object            6872              3\n",
       "Qty                    int64               0             10\n",
       "currency              object            7795              1\n",
       "Amount               float64            7795           1410\n",
       "ship-city             object              33           8955\n",
       "ship-state            object              33             69\n",
       "ship-postal-code     float64              33           9459\n",
       "ship-country          object              33              1\n",
       "promotion-ids         object           49153           5787\n",
       "B2B                     bool               0              2\n",
       "fulfilled-by          object           89698              1\n",
       "Unnamed: 22           object           49050              1"
      ]
     },
     "metadata": {},
     "output_type": "display_data"
    }
   ],
   "source": [
    "import pandas as pd\n",
    "\n",
    "# Đọc dữ liệu\n",
    "df = pd.read_csv(\"Amazon Sale Report.csv\")\n",
    "\n",
    "# Xem kích thước và 5 dòng đầu tiên\n",
    "print(\"🔹 Kích thước dữ liệu:\", df.shape)\n",
    "display(df.head())\n",
    "\n",
    "# Xem thông tin tổng quan về kiểu dữ liệu và giá trị thiếu\n",
    "print(\"\\n🔍 Thông tin các cột:\")\n",
    "df_info = pd.DataFrame({\n",
    "    'Data Type': df.dtypes,\n",
    "    'Missing Values': df.isnull().sum(),\n",
    "    'Unique Values': df.nunique()\n",
    "})\n",
    "display(df_info)\n"
   ]
  },
  {
   "cell_type": "code",
   "execution_count": 272,
   "id": "0133f509",
   "metadata": {},
   "outputs": [
    {
     "data": {
      "text/html": [
       "<div>\n",
       "<style scoped>\n",
       "    .dataframe tbody tr th:only-of-type {\n",
       "        vertical-align: middle;\n",
       "    }\n",
       "\n",
       "    .dataframe tbody tr th {\n",
       "        vertical-align: top;\n",
       "    }\n",
       "\n",
       "    .dataframe thead th {\n",
       "        text-align: right;\n",
       "    }\n",
       "</style>\n",
       "<table border=\"1\" class=\"dataframe\">\n",
       "  <thead>\n",
       "    <tr style=\"text-align: right;\">\n",
       "      <th></th>\n",
       "      <th>Description</th>\n",
       "    </tr>\n",
       "  </thead>\n",
       "  <tbody>\n",
       "    <tr>\n",
       "      <th>Order ID</th>\n",
       "      <td>Mã đơn hàng duy nhất</td>\n",
       "    </tr>\n",
       "    <tr>\n",
       "      <th>Date</th>\n",
       "      <td>Ngày tạo đơn hàng</td>\n",
       "    </tr>\n",
       "    <tr>\n",
       "      <th>Status</th>\n",
       "      <td>Trạng thái đơn hàng (Shipped, Cancelled, Deliv...</td>\n",
       "    </tr>\n",
       "    <tr>\n",
       "      <th>Fulfilment</th>\n",
       "      <td>Hình thức hoàn tất đơn hàng (Merchant hoặc Ama...</td>\n",
       "    </tr>\n",
       "    <tr>\n",
       "      <th>Sales Channel</th>\n",
       "      <td>Kênh bán hàng (Online, Offline)</td>\n",
       "    </tr>\n",
       "    <tr>\n",
       "      <th>Ship Service Level</th>\n",
       "      <td>Mức độ dịch vụ vận chuyển (Standard, Express, ...</td>\n",
       "    </tr>\n",
       "    <tr>\n",
       "      <th>Style</th>\n",
       "      <td>Loại sản phẩm hoặc biến thể</td>\n",
       "    </tr>\n",
       "    <tr>\n",
       "      <th>SKU</th>\n",
       "      <td>Mã định danh sản phẩm</td>\n",
       "    </tr>\n",
       "    <tr>\n",
       "      <th>Category</th>\n",
       "      <td>Danh mục sản phẩm</td>\n",
       "    </tr>\n",
       "    <tr>\n",
       "      <th>Size</th>\n",
       "      <td>Kích thước sản phẩm</td>\n",
       "    </tr>\n",
       "    <tr>\n",
       "      <th>ASIN</th>\n",
       "      <td>Mã định danh sản phẩm trên Amazon</td>\n",
       "    </tr>\n",
       "    <tr>\n",
       "      <th>Courier Status</th>\n",
       "      <td>Trạng thái của đơn vị vận chuyển (Shipped, Del...</td>\n",
       "    </tr>\n",
       "    <tr>\n",
       "      <th>Qty</th>\n",
       "      <td>Số lượng mua</td>\n",
       "    </tr>\n",
       "    <tr>\n",
       "      <th>Currency</th>\n",
       "      <td>Loại tiền tệ</td>\n",
       "    </tr>\n",
       "    <tr>\n",
       "      <th>Amount</th>\n",
       "      <td>Tổng số tiền của đơn hàng</td>\n",
       "    </tr>\n",
       "    <tr>\n",
       "      <th>ship-city</th>\n",
       "      <td>Thành phố nhận hàng</td>\n",
       "    </tr>\n",
       "    <tr>\n",
       "      <th>ship-state</th>\n",
       "      <td>Bang hoặc khu vực nhận hàng</td>\n",
       "    </tr>\n",
       "    <tr>\n",
       "      <th>ship-postal-code</th>\n",
       "      <td>Mã bưu điện nơi nhận</td>\n",
       "    </tr>\n",
       "    <tr>\n",
       "      <th>ship-country</th>\n",
       "      <td>Quốc gia nhận</td>\n",
       "    </tr>\n",
       "    <tr>\n",
       "      <th>promotion-ids</th>\n",
       "      <td>Mã khuyến mãi nếu có</td>\n",
       "    </tr>\n",
       "    <tr>\n",
       "      <th>B2B</th>\n",
       "      <td>Đơn hàng B2B (doanh nghiệp) hay B2C</td>\n",
       "    </tr>\n",
       "    <tr>\n",
       "      <th>fulfilled-by</th>\n",
       "      <td>Đơn vị hoàn tất đơn (Merchant hoặc Amazon)</td>\n",
       "    </tr>\n",
       "    <tr>\n",
       "      <th>Unnamed: 22</th>\n",
       "      <td>Cột rác từ Excel, không có thông tin</td>\n",
       "    </tr>\n",
       "  </tbody>\n",
       "</table>\n",
       "</div>"
      ],
      "text/plain": [
       "                                                          Description\n",
       "Order ID                                         Mã đơn hàng duy nhất\n",
       "Date                                                Ngày tạo đơn hàng\n",
       "Status              Trạng thái đơn hàng (Shipped, Cancelled, Deliv...\n",
       "Fulfilment          Hình thức hoàn tất đơn hàng (Merchant hoặc Ama...\n",
       "Sales Channel                         Kênh bán hàng (Online, Offline)\n",
       "Ship Service Level  Mức độ dịch vụ vận chuyển (Standard, Express, ...\n",
       "Style                                     Loại sản phẩm hoặc biến thể\n",
       "SKU                                             Mã định danh sản phẩm\n",
       "Category                                            Danh mục sản phẩm\n",
       "Size                                              Kích thước sản phẩm\n",
       "ASIN                                Mã định danh sản phẩm trên Amazon\n",
       "Courier Status      Trạng thái của đơn vị vận chuyển (Shipped, Del...\n",
       "Qty                                                      Số lượng mua\n",
       "Currency                                                 Loại tiền tệ\n",
       "Amount                                      Tổng số tiền của đơn hàng\n",
       "ship-city                                         Thành phố nhận hàng\n",
       "ship-state                                Bang hoặc khu vực nhận hàng\n",
       "ship-postal-code                                 Mã bưu điện nơi nhận\n",
       "ship-country                                            Quốc gia nhận\n",
       "promotion-ids                                    Mã khuyến mãi nếu có\n",
       "B2B                               Đơn hàng B2B (doanh nghiệp) hay B2C\n",
       "fulfilled-by               Đơn vị hoàn tất đơn (Merchant hoặc Amazon)\n",
       "Unnamed: 22                      Cột rác từ Excel, không có thông tin"
      ]
     },
     "metadata": {},
     "output_type": "display_data"
    }
   ],
   "source": [
    "# Tạo bảng mô tả thuộc tính\n",
    "column_descriptions = {\n",
    "    'Order ID': 'Mã đơn hàng duy nhất',\n",
    "    'Date': 'Ngày tạo đơn hàng',\n",
    "    'Status': 'Trạng thái đơn hàng (Shipped, Cancelled, Delivered, ...)',\n",
    "    'Fulfilment': 'Hình thức hoàn tất đơn hàng (Merchant hoặc Amazon)',\n",
    "    'Sales Channel': 'Kênh bán hàng (Online, Offline)',\n",
    "    'Ship Service Level': 'Mức độ dịch vụ vận chuyển (Standard, Express, ...)',\n",
    "    'Style': 'Loại sản phẩm hoặc biến thể',\n",
    "    'SKU': 'Mã định danh sản phẩm',\n",
    "    'Category': 'Danh mục sản phẩm',\n",
    "    'Size': 'Kích thước sản phẩm',\n",
    "    'ASIN': 'Mã định danh sản phẩm trên Amazon',\n",
    "    'Courier Status': 'Trạng thái của đơn vị vận chuyển (Shipped, Delivered, Cancelled)',\n",
    "    'Qty': 'Số lượng mua',\n",
    "    'Currency': 'Loại tiền tệ',\n",
    "    'Amount': 'Tổng số tiền của đơn hàng',\n",
    "    'ship-city': 'Thành phố nhận hàng',\n",
    "    'ship-state': 'Bang hoặc khu vực nhận hàng',\n",
    "    'ship-postal-code': 'Mã bưu điện nơi nhận',\n",
    "    'ship-country': 'Quốc gia nhận',\n",
    "    'promotion-ids': 'Mã khuyến mãi nếu có',\n",
    "    'B2B': 'Đơn hàng B2B (doanh nghiệp) hay B2C',\n",
    "    'fulfilled-by': 'Đơn vị hoàn tất đơn (Merchant hoặc Amazon)',\n",
    "    'Unnamed: 22': 'Cột rác từ Excel, không có thông tin'\n",
    "}\n",
    "\n",
    "# Chuyển sang DataFrame để dễ đọc\n",
    "desc_df = pd.DataFrame.from_dict(column_descriptions, orient='index', columns=['Description'])\n",
    "display(desc_df)\n"
   ]
  },
  {
   "cell_type": "markdown",
   "id": "4a58b796",
   "metadata": {},
   "source": [
    "## ✅ Tiền xử lý dữ liệu (Data Preprocessing)\n"
   ]
  },
  {
   "cell_type": "markdown",
   "id": "efae529c",
   "metadata": {},
   "source": [
    "### 📘 1. Xoá cột dư thừa\n",
    "Các cột như index, Unnamed: 22 không mang thông tin hữu ích (có thể do lỗi xuất file từ Excel)."
   ]
  },
  {
   "cell_type": "code",
   "execution_count": 273,
   "id": "9ee722bf",
   "metadata": {},
   "outputs": [],
   "source": [
    "# Xoá các cột không cần thiết\n",
    "df.drop(columns=['index', 'Unnamed: 22','Courier Status'], errors='ignore', inplace=True)\n"
   ]
  },
  {
   "cell_type": "markdown",
   "id": "f9ef0a54",
   "metadata": {},
   "source": [
    "### 📘 2. Chuyển đổi kiểu dữ liệu\n",
    "- Một số cột như Date đang ở dạng chuỗi, cần chuyển sang datetime để phân tích thời gian.\n",
    "\n",
    "- ship-postal-code đang ở dạng float, nên chuyển về string để thể hiện mã vùng rõ ràng."
   ]
  },
  {
   "cell_type": "code",
   "execution_count": 274,
   "id": "6442ccd2",
   "metadata": {},
   "outputs": [],
   "source": [
    "# Chuyển 'Date' sang kiểu datetime\n",
    "df['Date'] = pd.to_datetime(df['Date'], format='%m-%d-%y', errors='coerce')\n",
    "\n",
    "# Chuyển 'ship-postal-code' thành chuỗi (nếu có)\n",
    "if 'ship-postal-code' in df.columns:\n",
    "    df['ship-postal-code'] = df['ship-postal-code'].astype('Int64').astype('string')\n"
   ]
  },
  {
   "cell_type": "markdown",
   "id": "ab83d34f",
   "metadata": {},
   "source": [
    "### 📘 3. Chuẩn hoá giá trị thiếu (Missing Values)\n",
    "- Nhiều mô hình học máy không xử lý được dữ liệu thiếu (NaN).\n",
    "\n",
    "- Loại bỏ cột có quá nhiều giá trị thiếu\n",
    "\n",
    "- Cột phân loại → thay thế bằng giá trị phổ biến hoặc 'Unknown'\n",
    "\n",
    "- Cột số → thay thế bằng 0 hoặc trung bình"
   ]
  },
  {
   "cell_type": "code",
   "execution_count": 275,
   "id": "d0ef41b2",
   "metadata": {},
   "outputs": [
    {
     "name": "stdout",
     "output_type": "stream",
     "text": [
      "🔍 Thiếu dữ liệu:\n"
     ]
    },
    {
     "data": {
      "text/plain": [
       "Order ID                  0\n",
       "Date                      0\n",
       "Status                    0\n",
       "Fulfilment                0\n",
       "Sales Channel             0\n",
       "ship-service-level        0\n",
       "Style                     0\n",
       "SKU                       0\n",
       "Category                  0\n",
       "Size                      0\n",
       "ASIN                      0\n",
       "Qty                       0\n",
       "currency               7795\n",
       "Amount                 7795\n",
       "ship-city                33\n",
       "ship-state               33\n",
       "ship-postal-code         33\n",
       "ship-country             33\n",
       "promotion-ids         49153\n",
       "B2B                       0\n",
       "fulfilled-by          89698\n",
       "dtype: int64"
      ]
     },
     "metadata": {},
     "output_type": "display_data"
    },
    {
     "name": "stderr",
     "output_type": "stream",
     "text": [
      "C:\\Users\\ADMIN\\AppData\\Local\\Temp\\ipykernel_21728\\1812634595.py:18: FutureWarning: A value is trying to be set on a copy of a DataFrame or Series through chained assignment using an inplace method.\n",
      "The behavior will change in pandas 3.0. This inplace method will never work because the intermediate object on which we are setting values always behaves as a copy.\n",
      "\n",
      "For example, when doing 'df[col].method(value, inplace=True)', try using 'df.method({col: value}, inplace=True)' or df[col] = df[col].method(value) instead, to perform the operation inplace on the original object.\n",
      "\n",
      "\n",
      "  df[col].fillna(value, inplace=True)\n"
     ]
    },
    {
     "data": {
      "text/plain": [
       "Order ID                  0\n",
       "Date                      0\n",
       "Status                    0\n",
       "Fulfilment                0\n",
       "Sales Channel             0\n",
       "ship-service-level        0\n",
       "Style                     0\n",
       "SKU                       0\n",
       "Category                  0\n",
       "Size                      0\n",
       "ASIN                      0\n",
       "Qty                       0\n",
       "currency                  0\n",
       "Amount                    0\n",
       "ship-city                33\n",
       "ship-state               33\n",
       "ship-postal-code          0\n",
       "ship-country             33\n",
       "promotion-ids         49153\n",
       "B2B                       0\n",
       "dtype: int64"
      ]
     },
     "metadata": {},
     "output_type": "display_data"
    }
   ],
   "source": [
    "# Hiển thị tổng số giá trị thiếu\n",
    "print(\"🔍 Thiếu dữ liệu:\")\n",
    "display(df.isnull().sum())\n",
    "\n",
    "# Loại bỏ cột có hơn 60% giá trị thiếu\n",
    "df = df.dropna(axis=1, thresh=len(df) * 0.4)\n",
    "\n",
    "# Điền giá trị thiếu có định hướng\n",
    "fill_defaults = {\n",
    "    'Courier Status': 'Unknown',\n",
    "    'currency': 'INR',\n",
    "    'Amount': 0,\n",
    "    'ship-postal-code' : '0'\n",
    "}\n",
    "\n",
    "for col, value in fill_defaults.items():\n",
    "    if col in df.columns:\n",
    "        df[col].fillna(value, inplace=True)\n",
    "display(df.isnull().sum())\n"
   ]
  },
  {
   "cell_type": "markdown",
   "id": "bad46116",
   "metadata": {},
   "source": [
    "### 📘 4. Xử lý trùng lặp\n",
    "- Trùng lặp dòng có thể làm sai lệch phân tích, đặc biệt khi tính tổng doanh thu hoặc số đơn hàng."
   ]
  },
  {
   "cell_type": "code",
   "execution_count": 276,
   "id": "59b7df10",
   "metadata": {},
   "outputs": [
    {
     "name": "stdout",
     "output_type": "stream",
     "text": [
      "🔁 Số dòng trùng lặp: 6\n"
     ]
    }
   ],
   "source": [
    "# Kiểm tra và xoá dòng trùng lặp\n",
    "print(\"🔁 Số dòng trùng lặp:\", df.duplicated().sum())\n",
    "df.drop_duplicates(inplace=True)\n"
   ]
  },
  {
   "cell_type": "markdown",
   "id": "9ba90c66",
   "metadata": {},
   "source": [
    "### 📘 5. Kiểm tra & mã hóa dữ liệu phân loại (Categorical Encoding - nếu dùng mô hình)\n",
    "Các mô hình ML cần đầu vào số (numeric)\n",
    "\n",
    "Các cột như Status, Fulfilment, Category, ... cần được mã hoá"
   ]
  },
  {
   "cell_type": "code",
   "execution_count": 277,
   "id": "8aaf80c5",
   "metadata": {},
   "outputs": [
    {
     "name": "stdout",
     "output_type": "stream",
     "text": [
      "🧾 Các cột phân loại:\n",
      " ['Order ID', 'Status', 'Fulfilment', 'Sales Channel ', 'ship-service-level', 'Style', 'SKU', 'Category', 'Size', 'ASIN', 'currency', 'ship-city', 'ship-state', 'ship-country', 'promotion-ids']\n"
     ]
    }
   ],
   "source": [
    "# Kiểm tra các cột phân loại\n",
    "cat_columns = df.select_dtypes(include='object').columns\n",
    "print(\"🧾 Các cột phân loại:\\n\", cat_columns.tolist())\n"
   ]
  },
  {
   "cell_type": "markdown",
   "id": "926ca7bb",
   "metadata": {},
   "source": [
    "## 📊 Exploratory Data Analysis (EDA) & Trực quan hóa\n"
   ]
  },
  {
   "cell_type": "markdown",
   "id": "822def1d",
   "metadata": {},
   "source": [
    "### Đơn hàng bị hủy có đặc điểm gì?\n",
    "🔍 Mục đích:\n",
    "So sánh giữa đơn hàng Cancelled và không bị huỷ theo các yếu tố như Amount, ship-state, Courier Status."
   ]
  },
  {
   "cell_type": "markdown",
   "id": "8b35ae29",
   "metadata": {},
   "source": [
    "### 📈 Phân phối số đơn hàng bị huỷ theo bang:\n",
    "\n"
   ]
  },
  {
   "cell_type": "code",
   "execution_count": 278,
   "id": "f42a568b",
   "metadata": {},
   "outputs": [
    {
     "name": "stderr",
     "output_type": "stream",
     "text": [
      "C:\\Users\\ADMIN\\AppData\\Local\\Temp\\ipykernel_21728\\3642839011.py:6: FutureWarning: \n",
      "\n",
      "Passing `palette` without assigning `hue` is deprecated and will be removed in v0.14.0. Assign the `y` variable to `hue` and set `legend=False` for the same effect.\n",
      "\n",
      "  sns.barplot(x=cancelled_by_state.values, y=cancelled_by_state.index, palette='Reds')\n",
      "C:\\Users\\ADMIN\\AppData\\Roaming\\Python\\Python39\\site-packages\\IPython\\core\\pylabtools.py:152: UserWarning: Glyph 128721 (\\N{OCTAGONAL SIGN}) missing from current font.\n",
      "  fig.canvas.print_figure(bytes_io, **kw)\n"
     ]
    },
    {
     "data": {
      "image/png": "[encoded data removed]",
      "text/plain": [
       "<Figure size 1000x500 with 1 Axes>"
      ]
     },
     "metadata": {},
     "output_type": "display_data"
    }
   ],
   "source": [
    "import matplotlib.pyplot as plt\n",
    "import seaborn as sns\n",
    "cancelled_by_state = df[df['Status'] == 'Cancelled']['ship-state'].value_counts().head(10)\n",
    "\n",
    "plt.figure(figsize=(10, 5))\n",
    "sns.barplot(x=cancelled_by_state.values, y=cancelled_by_state.index, palette='Reds')\n",
    "plt.title('🛑 Top 10 bang có nhiều đơn hàng bị hủy nhất')\n",
    "plt.xlabel('Số đơn hàng bị huỷ')\n",
    "plt.ylabel('Bang')\n",
    "plt.show()\n"
   ]
  },
  {
   "cell_type": "markdown",
   "id": "d5443a7e",
   "metadata": {},
   "source": [
    "### 📈 So sánh doanh thu giữa đơn huỷ và không huỷ:\n"
   ]
  },
  {
   "cell_type": "code",
   "execution_count": 279,
   "id": "d71fe958",
   "metadata": {},
   "outputs": [
    {
     "name": "stderr",
     "output_type": "stream",
     "text": [
      "C:\\Users\\ADMIN\\AppData\\Local\\Temp\\ipykernel_21728\\3878918944.py:2: FutureWarning: \n",
      "\n",
      "Passing `palette` without assigning `hue` is deprecated and will be removed in v0.14.0. Assign the `x` variable to `hue` and set `legend=False` for the same effect.\n",
      "\n",
      "  sns.boxplot(data=df[df['Amount'] > 0], x='Status', y='Amount', palette='pastel')\n",
      "C:\\Users\\ADMIN\\AppData\\Roaming\\Python\\Python39\\site-packages\\IPython\\core\\pylabtools.py:152: UserWarning: Glyph 128184 (\\N{MONEY WITH WINGS}) missing from current font.\n",
      "  fig.canvas.print_figure(bytes_io, **kw)\n"
     ]
    },
    {
     "data": {
      "image/png": "[encoded data removed]",
      "text/plain": [
       "<Figure size 800x600 with 1 Axes>"
      ]
     },
     "metadata": {},
     "output_type": "display_data"
    }
   ],
   "source": [
    "plt.figure(figsize=(8, 6))\n",
    "sns.boxplot(data=df[df['Amount'] > 0], x='Status', y='Amount', palette='pastel')\n",
    "plt.title('💸 So sánh doanh thu theo trạng thái đơn hàng')\n",
    "plt.ylabel('Doanh thu (Amount)')\n",
    "plt.xlabel('Trạng thái')\n",
    "plt.show()\n"
   ]
  },
  {
   "cell_type": "markdown",
   "id": "a6bf0289",
   "metadata": {},
   "source": [
    "### Doanh thu theo thời gian như thế nào?"
   ]
  },
  {
   "cell_type": "code",
   "execution_count": 280,
   "id": "2dfbb387",
   "metadata": {},
   "outputs": [
    {
     "name": "stderr",
     "output_type": "stream",
     "text": [
      "C:\\Users\\ADMIN\\AppData\\Roaming\\Python\\Python39\\site-packages\\IPython\\core\\pylabtools.py:152: UserWarning: Glyph 128197 (\\N{CALENDAR}) missing from current font.\n",
      "  fig.canvas.print_figure(bytes_io, **kw)\n",
      "C:\\Users\\ADMIN\\AppData\\Roaming\\Python\\Python39\\site-packages\\IPython\\core\\pylabtools.py:152: UserWarning: Glyph 128197 (\\N{CALENDAR}) missing from current font.\n",
      "  fig.canvas.print_figure(bytes_io, **kw)\n",
      "C:\\Users\\ADMIN\\AppData\\Roaming\\Python\\Python39\\site-packages\\IPython\\core\\pylabtools.py:152: UserWarning: Glyph 128197 (\\N{CALENDAR}) missing from current font.\n",
      "  fig.canvas.print_figure(bytes_io, **kw)\n"
     ]
    },
    {
     "data": {
      "image/png": "[encoded data removed]",
      "text/plain": [
       "<Figure size 1200x600 with 1 Axes>"
      ]
     },
     "metadata": {},
     "output_type": "display_data"
    }
   ],
   "source": [
    "# Thêm cột tháng-năm\n",
    "df['Month'] = df['Date'].dt.to_period('M')\n",
    "\n",
    "revenue_by_month = df.groupby('Month')['Amount'].sum()\n",
    "\n",
    "plt.figure(figsize=(12, 6))\n",
    "revenue_by_month.plot(marker='o', color='teal')\n",
    "plt.title('📅 Doanh thu theo thời gian (theo tháng)')\n",
    "plt.xlabel('Tháng')\n",
    "plt.ylabel('Tổng doanh thu (INR)')\n",
    "plt.grid(True)\n",
    "plt.show()\n"
   ]
  },
  {
   "cell_type": "markdown",
   "id": "47e5be47",
   "metadata": {},
   "source": [
    "## 🧹 Xử lý dữ liệu đầu vào cho mô hình ML (Hồi quy & Phân loại)\n"
   ]
  },
  {
   "cell_type": "markdown",
   "id": "e4b393bf",
   "metadata": {},
   "source": [
    "### ✅ 1. Chọn biến mục tiêu (target) và loại mô hình\n"
   ]
  },
  {
   "cell_type": "markdown",
   "id": "4f3319e8",
   "metadata": {},
   "source": [
    "### 🎯 Xác định mục tiêu và bài toán\n",
    "\n",
    "- **Mô hình phân loại:** Dự đoán đơn hàng có bị **huỷ (Status = \"Cancelled\")** hay không. Chuyển `Status` thành biến nhị phân 0/1.\n",
    "- **Mô hình hồi quy:** Dự đoán **Amount** (doanh thu đơn hàng) dựa trên các đặc trưng như sản phẩm, khu vực, dịch vụ vận chuyển, v.v.\n"
   ]
  },
  {
   "cell_type": "code",
   "execution_count": 281,
   "id": "8277560d",
   "metadata": {},
   "outputs": [],
   "source": [
    "# Phân loại: Biến mục tiêu nhị phân\n",
    "df['Cancelled'] = df['Status'].apply(lambda x: 1 if x == 'Cancelled' else 0)\n",
    "\n",
    "# Hồi quy: Biến mục tiêu là Amount (đã làm sạch trước đó)\n"
   ]
  },
  {
   "cell_type": "markdown",
   "id": "9c5be58b",
   "metadata": {},
   "source": [
    "### ✅ 2. Lọc dữ liệu không hợp lệ\n"
   ]
  },
  {
   "cell_type": "markdown",
   "id": "cae21dde",
   "metadata": {},
   "source": [
    "### 🔎 Lọc dữ liệu\n",
    "\n",
    "- Bỏ các đơn hàng có `Amount <= 0` (lỗi nhập hoặc đơn không có giá trị).\n",
    "- Chỉ giữ các dòng có `Qty > 0`.\n"
   ]
  },
  {
   "cell_type": "code",
   "execution_count": 282,
   "id": "34942583",
   "metadata": {},
   "outputs": [],
   "source": [
    "df_model = df[(df['Amount'] > 0) & (df['Qty'] > 0)].copy()\n"
   ]
  },
  {
   "cell_type": "markdown",
   "id": "11a0df25",
   "metadata": {},
   "source": [
    "### ✅ 3. Mã hoá biến phân loại (Categorical Encoding)\n"
   ]
  },
  {
   "cell_type": "markdown",
   "id": "02a462d6",
   "metadata": {},
   "source": [
    "### 🔤 Mã hoá biến phân loại\n",
    "\n",
    "- Sử dụng **Label Encoding** để biến các cột phân loại thành dạng số.\n",
    "- Giúp mô hình ML hiểu và xử lý các biến phân loại.\n"
   ]
  },
  {
   "cell_type": "code",
   "execution_count": 283,
   "id": "6055cd24",
   "metadata": {},
   "outputs": [],
   "source": [
    "from sklearn.preprocessing import LabelEncoder\n",
    "import pandas as pd\n",
    "\n",
    "# Tách các cột dạng chuỗi\n",
    "cat_cols = df_model.select_dtypes(include='object').columns.tolist()\n",
    "\n",
    "# Khởi tạo bộ lưu encoder\n",
    "label_encoders = {}\n",
    "df_encoded = df_model.copy()\n",
    "\n",
    "# Duyệt từng cột phân loại\n",
    "for col in cat_cols:\n",
    "    n_unique = df_model[col].nunique()\n",
    "    \n",
    "    if n_unique > 5:\n",
    "        # Dùng Label Encoding\n",
    "        le = LabelEncoder()\n",
    "        df_encoded[col] = le.fit_transform(df_model[col].astype(str))\n",
    "        label_encoders[col] = le  # Lưu encoder nếu muốn inverse sau\n",
    "    else:\n",
    "        # Dùng One-Hot Encoding\n",
    "        dummies = pd.get_dummies(df_model[col], prefix=col)\n",
    "        df_encoded = pd.concat([df_encoded.drop(columns=[col]), dummies], axis=1)\n",
    "\n",
    "# Kết quả\n",
    "df_encoded.head()\n",
    "df_model = df_encoded.copy()"
   ]
  },
  {
   "cell_type": "markdown",
   "id": "5ab101ef",
   "metadata": {},
   "source": [
    "### ✅ 4. Lựa chọn đặc trưng (Feature Selection)\n"
   ]
  },
  {
   "cell_type": "markdown",
   "id": "aa4f6d8e",
   "metadata": {},
   "source": [
    "### 🧠 Chọn đặc trưng đầu vào\n",
    "\n",
    "- Giữ lại các cột quan trọng có thể ảnh hưởng đến đơn hàng như:\n",
    "  - Thông tin sản phẩm: `Category`, `SKU`, `Style`, `Qty`\n",
    "  - Thông tin giao hàng: `ship-city`, `ship-state`, `Courier Status`, `Ship Service Level`\n",
    "  - Kênh bán: `Sales Channel`, `Fulfilment`\n",
    "- Bỏ các cột ID (`Order ID`, `ASIN`) và thông tin trùng lặp (`fulfilled-by`, `currency`, `promotion-ids`)\n"
   ]
  },
  {
   "cell_type": "code",
   "execution_count": 284,
   "id": "64f0d3d1",
   "metadata": {},
   "outputs": [
    {
     "data": {
      "text/html": [
       "<div>\n",
       "<style scoped>\n",
       "    .dataframe tbody tr th:only-of-type {\n",
       "        vertical-align: middle;\n",
       "    }\n",
       "\n",
       "    .dataframe tbody tr th {\n",
       "        vertical-align: top;\n",
       "    }\n",
       "\n",
       "    .dataframe thead th {\n",
       "        text-align: right;\n",
       "    }\n",
       "</style>\n",
       "<table border=\"1\" class=\"dataframe\">\n",
       "  <thead>\n",
       "    <tr style=\"text-align: right;\">\n",
       "      <th></th>\n",
       "      <th>Order ID</th>\n",
       "      <th>Style</th>\n",
       "      <th>SKU</th>\n",
       "      <th>Category</th>\n",
       "      <th>Size</th>\n",
       "      <th>ASIN</th>\n",
       "      <th>Qty</th>\n",
       "      <th>Amount</th>\n",
       "      <th>ship-state</th>\n",
       "      <th>ship-postal-code</th>\n",
       "      <th>promotion-ids</th>\n",
       "      <th>B2B</th>\n",
       "      <th>Cancelled</th>\n",
       "      <th>Fulfilment_Amazon</th>\n",
       "      <th>Fulfilment_Merchant</th>\n",
       "      <th>Sales Channel _Amazon.in</th>\n",
       "      <th>ship-service-level_Expedited</th>\n",
       "      <th>ship-service-level_Standard</th>\n",
       "      <th>currency_INR</th>\n",
       "      <th>ship-country_IN</th>\n",
       "    </tr>\n",
       "  </thead>\n",
       "  <tbody>\n",
       "    <tr>\n",
       "      <th>1</th>\n",
       "      <td>12251</td>\n",
       "      <td>844</td>\n",
       "      <td>4378</td>\n",
       "      <td>8</td>\n",
       "      <td>0</td>\n",
       "      <td>5217</td>\n",
       "      <td>1</td>\n",
       "      <td>406.0</td>\n",
       "      <td>22</td>\n",
       "      <td>560085</td>\n",
       "      <td>1999</td>\n",
       "      <td>False</td>\n",
       "      <td>0</td>\n",
       "      <td>False</td>\n",
       "      <td>True</td>\n",
       "      <td>True</td>\n",
       "      <td>False</td>\n",
       "      <td>True</td>\n",
       "      <td>True</td>\n",
       "      <td>True</td>\n",
       "    </tr>\n",
       "    <tr>\n",
       "      <th>2</th>\n",
       "      <td>40806</td>\n",
       "      <td>530</td>\n",
       "      <td>2588</td>\n",
       "      <td>8</td>\n",
       "      <td>8</td>\n",
       "      <td>666</td>\n",
       "      <td>1</td>\n",
       "      <td>329.0</td>\n",
       "      <td>27</td>\n",
       "      <td>410210</td>\n",
       "      <td>5705</td>\n",
       "      <td>True</td>\n",
       "      <td>0</td>\n",
       "      <td>True</td>\n",
       "      <td>False</td>\n",
       "      <td>True</td>\n",
       "      <td>True</td>\n",
       "      <td>False</td>\n",
       "      <td>True</td>\n",
       "      <td>True</td>\n",
       "    </tr>\n",
       "    <tr>\n",
       "      <th>4</th>\n",
       "      <td>81129</td>\n",
       "      <td>751</td>\n",
       "      <td>3781</td>\n",
       "      <td>6</td>\n",
       "      <td>0</td>\n",
       "      <td>4297</td>\n",
       "      <td>1</td>\n",
       "      <td>574.0</td>\n",
       "      <td>54</td>\n",
       "      <td>600073</td>\n",
       "      <td>5726</td>\n",
       "      <td>False</td>\n",
       "      <td>0</td>\n",
       "      <td>True</td>\n",
       "      <td>False</td>\n",
       "      <td>True</td>\n",
       "      <td>True</td>\n",
       "      <td>False</td>\n",
       "      <td>True</td>\n",
       "      <td>True</td>\n",
       "    </tr>\n",
       "    <tr>\n",
       "      <th>5</th>\n",
       "      <td>41828</td>\n",
       "      <td>1229</td>\n",
       "      <td>6199</td>\n",
       "      <td>5</td>\n",
       "      <td>8</td>\n",
       "      <td>2894</td>\n",
       "      <td>1</td>\n",
       "      <td>824.0</td>\n",
       "      <td>57</td>\n",
       "      <td>201102</td>\n",
       "      <td>5705</td>\n",
       "      <td>False</td>\n",
       "      <td>0</td>\n",
       "      <td>True</td>\n",
       "      <td>False</td>\n",
       "      <td>True</td>\n",
       "      <td>True</td>\n",
       "      <td>False</td>\n",
       "      <td>True</td>\n",
       "      <td>True</td>\n",
       "    </tr>\n",
       "    <tr>\n",
       "      <th>6</th>\n",
       "      <td>100455</td>\n",
       "      <td>180</td>\n",
       "      <td>647</td>\n",
       "      <td>5</td>\n",
       "      <td>5</td>\n",
       "      <td>1653</td>\n",
       "      <td>1</td>\n",
       "      <td>653.0</td>\n",
       "      <td>9</td>\n",
       "      <td>160036</td>\n",
       "      <td>5705</td>\n",
       "      <td>False</td>\n",
       "      <td>0</td>\n",
       "      <td>True</td>\n",
       "      <td>False</td>\n",
       "      <td>True</td>\n",
       "      <td>True</td>\n",
       "      <td>False</td>\n",
       "      <td>True</td>\n",
       "      <td>True</td>\n",
       "    </tr>\n",
       "  </tbody>\n",
       "</table>\n",
       "</div>"
      ],
      "text/plain": [
       "   Order ID  Style   SKU  Category  Size  ASIN  Qty  Amount  ship-state  \\\n",
       "1     12251    844  4378         8     0  5217    1   406.0          22   \n",
       "2     40806    530  2588         8     8   666    1   329.0          27   \n",
       "4     81129    751  3781         6     0  4297    1   574.0          54   \n",
       "5     41828   1229  6199         5     8  2894    1   824.0          57   \n",
       "6    100455    180   647         5     5  1653    1   653.0           9   \n",
       "\n",
       "  ship-postal-code  promotion-ids    B2B  Cancelled  Fulfilment_Amazon  \\\n",
       "1           560085           1999  False          0              False   \n",
       "2           410210           5705   True          0               True   \n",
       "4           600073           5726  False          0               True   \n",
       "5           201102           5705  False          0               True   \n",
       "6           160036           5705  False          0               True   \n",
       "\n",
       "   Fulfilment_Merchant  Sales Channel _Amazon.in  \\\n",
       "1                 True                      True   \n",
       "2                False                      True   \n",
       "4                False                      True   \n",
       "5                False                      True   \n",
       "6                False                      True   \n",
       "\n",
       "   ship-service-level_Expedited  ship-service-level_Standard  currency_INR  \\\n",
       "1                         False                         True          True   \n",
       "2                          True                        False          True   \n",
       "4                          True                        False          True   \n",
       "5                          True                        False          True   \n",
       "6                          True                        False          True   \n",
       "\n",
       "   ship-country_IN  \n",
       "1             True  \n",
       "2             True  \n",
       "4             True  \n",
       "5             True  \n",
       "6             True  "
      ]
     },
     "execution_count": 284,
     "metadata": {},
     "output_type": "execute_result"
    }
   ],
   "source": [
    "\n",
    "#  Loại bỏ các cột không phù hợp\n",
    "cols_to_drop = [\n",
    "    'order-id', 'customer-name', 'ship-address', 'ship-city',\n",
    "    'ship-phone-number', 'Date', 'Status', 'order-item-id', 'currency', 'Month','Courier Status'\n",
    "]\n",
    "df_model = df_model.drop(columns=[col for col in cols_to_drop if col in df.columns], errors='ignore')\n",
    "\n",
    "df_model.head()"
   ]
  },
  {
   "cell_type": "code",
   "execution_count": 285,
   "id": "12ae50e9",
   "metadata": {},
   "outputs": [
    {
     "name": "stderr",
     "output_type": "stream",
     "text": [
      "c:\\Users\\ADMIN\\AppData\\Local\\Programs\\Python\\Python39\\lib\\site-packages\\sklearn\\base.py:474: FutureWarning: `BaseEstimator._validate_data` is deprecated in 1.6 and will be removed in 1.7. Use `sklearn.utils.validation.validate_data` instead. This function becomes public and is part of the scikit-learn developer API.\n",
      "  warnings.warn(\n"
     ]
    }
   ],
   "source": [
    "from imblearn.over_sampling import SMOTE\n",
    "\n",
    "X = df_model.drop(columns=['Amount', 'Cancelled'], errors='ignore')\n",
    "y_class = df_model['Cancelled']\n",
    "y_reg = df_model['Amount']\n",
    "\n",
    "#  Cân bằng dữ liệu bằng SMOTE\n",
    "smote = SMOTE(random_state=42)\n",
    "X_resampled, y_class = smote.fit_resample(X, y_class)\n"
   ]
  },
  {
   "cell_type": "code",
   "execution_count": 286,
   "id": "47b8b626",
   "metadata": {},
   "outputs": [
    {
     "name": "stdout",
     "output_type": "stream",
     "text": [
      "Order ID                        0\n",
      "Style                           0\n",
      "SKU                             0\n",
      "Category                        0\n",
      "Size                            0\n",
      "ASIN                            0\n",
      "Qty                             0\n",
      "ship-state                      0\n",
      "ship-postal-code                0\n",
      "promotion-ids                   0\n",
      "B2B                             0\n",
      "Fulfilment_Amazon               0\n",
      "Fulfilment_Merchant             0\n",
      "Sales Channel _Amazon.in        0\n",
      "ship-service-level_Expedited    0\n",
      "ship-service-level_Standard     0\n",
      "currency_INR                    0\n",
      "ship-country_IN                 0\n",
      "dtype: int64\n"
     ]
    }
   ],
   "source": [
    "print(X.isna().sum())  # kiểm tra số lượng NaN theo cột\n"
   ]
  },
  {
   "cell_type": "markdown",
   "id": "9ef6caed",
   "metadata": {},
   "source": [
    "### ✅ 5. Chuẩn hoá dữ liệu số (Feature Scaling)\n"
   ]
  },
  {
   "cell_type": "markdown",
   "id": "609b79ee",
   "metadata": {},
   "source": [
    "### 📏 Chuẩn hoá dữ liệu số\n",
    "\n",
    "- Các mô hình như hồi quy tuyến tính hoặc logistic thường yêu cầu dữ liệu ở cùng một thang đo.\n",
    "- Dùng StandardScaler để chuẩn hoá các biến số.\n"
   ]
  },
  {
   "cell_type": "code",
   "execution_count": 287,
   "id": "2ea1d326",
   "metadata": {},
   "outputs": [
    {
     "name": "stdout",
     "output_type": "stream",
     "text": [
      "   Order ID  Style   SKU  Category  Size  ASIN  Qty  ship-state  \\\n",
      "1     12251    844  4378         8     0  5217    1          22   \n",
      "2     40806    530  2588         8     8   666    1          27   \n",
      "4     81129    751  3781         6     0  4297    1          54   \n",
      "5     41828   1229  6199         5     8  2894    1          57   \n",
      "6    100455    180   647         5     5  1653    1           9   \n",
      "\n",
      "  ship-postal-code  promotion-ids    B2B  Fulfilment_Amazon  \\\n",
      "1           560085           1999  False              False   \n",
      "2           410210           5705   True               True   \n",
      "4           600073           5726  False               True   \n",
      "5           201102           5705  False               True   \n",
      "6           160036           5705  False               True   \n",
      "\n",
      "   Fulfilment_Merchant  Sales Channel _Amazon.in  \\\n",
      "1                 True                      True   \n",
      "2                False                      True   \n",
      "4                False                      True   \n",
      "5                False                      True   \n",
      "6                False                      True   \n",
      "\n",
      "   ship-service-level_Expedited  ship-service-level_Standard  currency_INR  \\\n",
      "1                         False                         True          True   \n",
      "2                          True                        False          True   \n",
      "4                          True                        False          True   \n",
      "5                          True                        False          True   \n",
      "6                          True                        False          True   \n",
      "\n",
      "   ship-country_IN  \n",
      "1             True  \n",
      "2             True  \n",
      "4             True  \n",
      "5             True  \n",
      "6             True  \n"
     ]
    }
   ],
   "source": [
    "print(X.head())"
   ]
  },
  {
   "cell_type": "code",
   "execution_count": 288,
   "id": "f6edb863",
   "metadata": {},
   "outputs": [],
   "source": [
    "from sklearn.preprocessing import StandardScaler\n",
    "\n",
    "scaler = StandardScaler()\n",
    "X_scaled = scaler.fit_transform(X_resampled)\n",
    "X_scaled_reg = pd.DataFrame(X)"
   ]
  },
  {
   "cell_type": "markdown",
   "id": "360edbb7",
   "metadata": {},
   "source": [
    "### ✅ 6. Chia tập huấn luyện và kiểm tra\n"
   ]
  },
  {
   "cell_type": "code",
   "execution_count": 289,
   "id": "f7ba9b28",
   "metadata": {},
   "outputs": [],
   "source": [
    "from sklearn.model_selection import train_test_split\n",
    "\n",
    "# Cho mô hình phân loại\n",
    "X_train_cls, X_test_cls, y_train_cls, y_test_cls = train_test_split(\n",
    "    X_scaled, y_class, test_size=0.2, random_state=42)\n",
    "\n",
    "# Cho mô hình hồi quy\n",
    "X_train_reg, X_test_reg, y_train_reg, y_test_reg = train_test_split(\n",
    "    X_scaled_reg, y_reg, test_size=0.2, random_state=42)\n"
   ]
  },
  {
   "cell_type": "markdown",
   "id": "a5c98265",
   "metadata": {},
   "source": [
    "### 🤖 Mô hình phân loại: Logistic Regression\n",
    "\n",
    "- Phù hợp cho bài toán nhị phân (Cancelled: 1 hoặc 0)\n",
    "- Cho xác suất dự đoán → dễ diễn giải\n",
    "\n",
    "**Tham số quan trọng:**\n",
    "- `penalty='l2'`: chuẩn hóa L2 (mặc định) giúp giảm overfitting.\n",
    "- `C=1.0`: hệ số điều chỉnh phạt regularization. Càng nhỏ thì regularization càng mạnh.\n",
    "- `solver='liblinear'`: phù hợp với dữ liệu nhỏ và ít đặc trưng.\n",
    "- `random_state=42`: để kết quả có thể tái lập được.\n"
   ]
  },
  {
   "cell_type": "code",
   "execution_count": 290,
   "id": "1d4e5156",
   "metadata": {},
   "outputs": [
    {
     "name": "stdout",
     "output_type": "stream",
     "text": [
      "🔍 Classification Report:\n",
      "              precision    recall  f1-score   support\n",
      "\n",
      "           0       0.99      0.38      0.55     21594\n",
      "           1       0.62      1.00      0.76     21634\n",
      "\n",
      "    accuracy                           0.69     43228\n",
      "   macro avg       0.81      0.69      0.66     43228\n",
      "weighted avg       0.81      0.69      0.66     43228\n",
      "\n",
      "📊 Confusion Matrix:\n",
      "[[ 8206 13388]\n",
      " [   55 21579]]\n"
     ]
    },
    {
     "name": "stderr",
     "output_type": "stream",
     "text": [
      "c:\\Users\\ADMIN\\AppData\\Local\\Programs\\Python\\Python39\\lib\\site-packages\\sklearn\\svm\\_base.py:1249: ConvergenceWarning: Liblinear failed to converge, increase the number of iterations.\n",
      "  warnings.warn(\n"
     ]
    }
   ],
   "source": [
    "from sklearn.linear_model import LogisticRegression\n",
    "from sklearn.metrics import classification_report, confusion_matrix\n",
    "\n",
    "# Huấn luyện Logistic Regression\n",
    "logreg = LogisticRegression(penalty='l2', C=1.0, solver='liblinear', random_state=42)\n",
    "logreg.fit(X_train_cls, y_train_cls)\n",
    "\n",
    "# Dự đoán và đánh giá\n",
    "y_pred_cls = logreg.predict(X_test_cls)\n",
    "print(\"🔍 Classification Report:\")\n",
    "print(classification_report(y_test_cls, y_pred_cls))\n",
    "print(\"📊 Confusion Matrix:\")\n",
    "print(confusion_matrix(y_test_cls, y_pred_cls))\n"
   ]
  },
  {
   "cell_type": "markdown",
   "id": "ef0abbff",
   "metadata": {},
   "source": [
    "### 📈 Mô hình hồi quy: Linear Regression\n",
    "\n",
    "- Dự đoán biến liên tục: `Amount`\n",
    "- Dễ hiểu, nhanh huấn luyện, dễ diễn giải hệ số.\n",
    "\n",
    "**Không cần nhiều tham số:** chỉ cần mặc định.\n"
   ]
  },
  {
   "cell_type": "code",
   "execution_count": 291,
   "id": "acde4f7d",
   "metadata": {},
   "outputs": [
    {
     "name": "stdout",
     "output_type": "stream",
     "text": [
      "📉 MSE: 49462.69\n",
      "📈 R² Score: 0.34\n"
     ]
    }
   ],
   "source": [
    "from sklearn.linear_model import LinearRegression\n",
    "from sklearn.metrics import mean_squared_error, r2_score\n",
    "\n",
    "# Huấn luyện mô hình hồi quy tuyến tính\n",
    "linreg = LinearRegression()\n",
    "linreg.fit(X_train_reg, y_train_reg)\n",
    "\n",
    "# Dự đoán và đánh giá\n",
    "y_pred_reg = linreg.predict(X_test_reg)\n",
    "\n",
    "# Đánh giá kết quả\n",
    "mse = mean_squared_error(y_test_reg, y_pred_reg)\n",
    "r2 = r2_score(y_test_reg, y_pred_reg)\n",
    "\n",
    "print(f\"📉 MSE: {mse:.2f}\")\n",
    "print(f\"📈 R² Score: {r2:.2f}\")\n"
   ]
  },
  {
   "cell_type": "markdown",
   "id": "34e5b73c",
   "metadata": {},
   "source": [
    "### 🔎 Mô hình phân loại: RandomForestClassifier\n",
    "\n",
    "Mô hình rừng ngẫu nhiên là một tập hợp nhiều cây quyết định. Ưu điểm:\n",
    "- Xử lý tốt dữ liệu phức tạp, không tuyến tính\n",
    "- Kháng nhiễu và overfitting tốt hơn so với cây đơn\n",
    "\n",
    "**Tham số được chọn:**\n",
    "- `n_estimators=100`: Số lượng cây trong rừng. Giá trị mặc định tốt cho đa số trường hợp.\n",
    "- `max_depth=10`: Giới hạn độ sâu của mỗi cây để tránh overfitting. Độ sâu nhỏ hơn giúp mô hình tổng quát hơn.\n",
    "- `min_samples_split=10`: Chỉ chia node khi có ít nhất 10 mẫu. Giúp cây không phát triển quá mức.\n",
    "- `random_state=42`: Đảm bảo tính lặp lại.\n"
   ]
  },
  {
   "cell_type": "code",
   "execution_count": 292,
   "id": "c4e2b68c",
   "metadata": {},
   "outputs": [
    {
     "name": "stdout",
     "output_type": "stream",
     "text": [
      "🌳 Random Forest Classifier Report:\n",
      "              precision    recall  f1-score   support\n",
      "\n",
      "           0       0.98      0.79      0.87     21594\n",
      "           1       0.83      0.98      0.90     21634\n",
      "\n",
      "    accuracy                           0.89     43228\n",
      "   macro avg       0.90      0.89      0.89     43228\n",
      "weighted avg       0.90      0.89      0.89     43228\n",
      "\n",
      "📊 Confusion Matrix:\n",
      "[[17094  4500]\n",
      " [  388 21246]]\n"
     ]
    }
   ],
   "source": [
    "from sklearn.ensemble import RandomForestClassifier\n",
    "from sklearn.metrics import classification_report, confusion_matrix\n",
    "\n",
    "# Mô hình phân loại\n",
    "rf_cls = RandomForestClassifier(\n",
    "    n_estimators=100,\n",
    "    max_depth=10,\n",
    "    min_samples_split=10,\n",
    "    random_state=42\n",
    ")\n",
    "\n",
    "rf_cls.fit(X_train_cls, y_train_cls)\n",
    "y_pred_rf_cls = rf_cls.predict(X_test_cls)\n",
    "\n",
    "# Đánh giá\n",
    "print(\"🌳 Random Forest Classifier Report:\")\n",
    "print(classification_report(y_test_cls, y_pred_rf_cls))\n",
    "print(\"📊 Confusion Matrix:\")\n",
    "print(confusion_matrix(y_test_cls, y_pred_rf_cls))\n"
   ]
  },
  {
   "cell_type": "markdown",
   "id": "50949a85",
   "metadata": {},
   "source": [
    "### 🔎 Mô hình hồi quy: RandomForestRegressor\n",
    "\n",
    "Rừng ngẫu nhiên hồi quy cũng là một tổ hợp nhiều cây quyết định, nhưng trả về trung bình kết quả dự đoán.\n",
    "\n",
    "**Tham số được chọn:**\n",
    "- `n_estimators=100`: Dùng 100 cây quyết định, tăng độ chính xác.\n",
    "- `max_depth=15`: Hạn chế độ sâu để giảm overfitting.\n",
    "- `min_samples_split=10`: Giúp cây không chia khi số lượng mẫu nhỏ.\n",
    "- `random_state=42`: Đảm bảo kết quả có thể tái lập.\n"
   ]
  },
  {
   "cell_type": "code",
   "execution_count": 293,
   "id": "dcb004aa",
   "metadata": {},
   "outputs": [
    {
     "name": "stdout",
     "output_type": "stream",
     "text": [
      "🌲 Random Forest Regressor - MSE: 4650.22\n",
      "🌲 Random Forest Regressor - R² Score: 0.94\n"
     ]
    }
   ],
   "source": [
    "from sklearn.ensemble import RandomForestRegressor\n",
    "from sklearn.metrics import mean_squared_error, r2_score\n",
    "\n",
    "# Mô hình hồi quy\n",
    "rf_reg = RandomForestRegressor(\n",
    "    n_estimators=100,\n",
    "    max_depth=15,\n",
    "    min_samples_split=10,\n",
    "    random_state=42\n",
    ")\n",
    "\n",
    "rf_reg.fit(X_train_reg, y_train_reg)\n",
    "y_pred_rf_reg = rf_reg.predict(X_test_reg)\n",
    "\n",
    "# Đánh giá\n",
    "mse_rf = mean_squared_error(y_test_reg, y_pred_rf_reg)\n",
    "r2_rf = r2_score(y_test_reg, y_pred_rf_reg)\n",
    "\n",
    "print(f\"🌲 Random Forest Regressor - MSE: {mse_rf:.2f}\")\n",
    "print(f\"🌲 Random Forest Regressor - R² Score: {r2_rf:.2f}\")\n"
   ]
  },
  {
   "cell_type": "markdown",
   "id": "296ea93d",
   "metadata": {},
   "source": [
    "### 🎯 ROC Curve và AUC Score\n",
    "\n",
    "- **ROC (Receiver Operating Characteristic)** thể hiện sự đánh đổi giữa TPR (True Positive Rate) và FPR (False Positive Rate).\n",
    "- **AUC (Area Under Curve)** là diện tích dưới đường ROC, đánh giá độ phân biệt của mô hình.\n",
    "  - AUC ~ 1: mô hình tốt\n",
    "  - AUC ~ 0.5: mô hình ngẫu nhiên\n"
   ]
  },
  {
   "cell_type": "code",
   "execution_count": 294,
   "id": "1005094e",
   "metadata": {},
   "outputs": [
    {
     "name": "stderr",
     "output_type": "stream",
     "text": [
      "C:\\Users\\ADMIN\\AppData\\Roaming\\Python\\Python39\\site-packages\\IPython\\core\\pylabtools.py:152: UserWarning: Glyph 127795 (\\N{DECIDUOUS TREE}) missing from current font.\n",
      "  fig.canvas.print_figure(bytes_io, **kw)\n"
     ]
    },
    {
     "data": {
      "image/png": "[encoded data removed]",
      "text/plain": [
       "<Figure size 800x600 with 1 Axes>"
      ]
     },
     "metadata": {},
     "output_type": "display_data"
    }
   ],
   "source": [
    "from sklearn.metrics import roc_curve, roc_auc_score\n",
    "import matplotlib.pyplot as plt\n",
    "\n",
    "# Dự đoán xác suất\n",
    "y_proba_rf = rf_cls.predict_proba(X_test_cls)[:, 1]\n",
    "\n",
    "# Tính ROC\n",
    "fpr, tpr, thresholds = roc_curve(y_test_cls, y_proba_rf)\n",
    "auc_score = roc_auc_score(y_test_cls, y_proba_rf)\n",
    "\n",
    "# Vẽ ROC\n",
    "plt.figure(figsize=(8,6))\n",
    "plt.plot(fpr, tpr, label=f\"AUC = {auc_score:.2f}\")\n",
    "plt.plot([0,1], [0,1], linestyle='--', color='gray')\n",
    "plt.xlabel('False Positive Rate')\n",
    "plt.ylabel('True Positive Rate')\n",
    "plt.title('🌳 ROC Curve – Random Forest Classifier')\n",
    "plt.legend()\n",
    "plt.grid(True)\n",
    "plt.show()\n"
   ]
  },
  {
   "cell_type": "markdown",
   "id": "fda50f9a",
   "metadata": {},
   "source": [
    "### 🔍 Feature Importance\n",
    "\n",
    "Random Forest cung cấp độ quan trọng của từng thuộc tính đầu vào:\n",
    "- Đặc trưng càng quan trọng → càng ảnh hưởng đến dự đoán.\n",
    "- Giúp chọn đặc trưng tốt, loại bỏ nhiễu.\n"
   ]
  },
  {
   "cell_type": "code",
   "execution_count": 295,
   "id": "b231c1d1",
   "metadata": {},
   "outputs": [
    {
     "name": "stderr",
     "output_type": "stream",
     "text": [
      "C:\\Users\\ADMIN\\AppData\\Local\\Temp\\ipykernel_21728\\99954139.py:15: UserWarning: Glyph 127795 (\\N{DECIDUOUS TREE}) missing from current font.\n",
      "  plt.tight_layout()\n",
      "C:\\Users\\ADMIN\\AppData\\Roaming\\Python\\Python39\\site-packages\\IPython\\core\\pylabtools.py:152: UserWarning: Glyph 127795 (\\N{DECIDUOUS TREE}) missing from current font.\n",
      "  fig.canvas.print_figure(bytes_io, **kw)\n"
     ]
    },
    {
     "data": {
      "image/png": "[encoded data removed]",
      "text/plain": [
       "<Figure size 1000x600 with 1 Axes>"
      ]
     },
     "metadata": {},
     "output_type": "display_data"
    },
    {
     "name": "stderr",
     "output_type": "stream",
     "text": [
      "C:\\Users\\ADMIN\\AppData\\Local\\Temp\\ipykernel_21728\\99954139.py:26: UserWarning: Glyph 127794 (\\N{EVERGREEN TREE}) missing from current font.\n",
      "  plt.tight_layout()\n",
      "C:\\Users\\ADMIN\\AppData\\Roaming\\Python\\Python39\\site-packages\\IPython\\core\\pylabtools.py:152: UserWarning: Glyph 127794 (\\N{EVERGREEN TREE}) missing from current font.\n",
      "  fig.canvas.print_figure(bytes_io, **kw)\n"
     ]
    },
    {
     "data": {
      "image/png": "[encoded data removed]",
      "text/plain": [
       "<Figure size 1000x600 with 1 Axes>"
      ]
     },
     "metadata": {},
     "output_type": "display_data"
    }
   ],
   "source": [
    "import pandas as pd\n",
    "import numpy as np\n",
    "\n",
    "# Feature names\n",
    "feature_names = X.columns\n",
    "\n",
    "# Phân loại - Feature Importance\n",
    "importances_cls = rf_cls.feature_importances_\n",
    "indices_cls = np.argsort(importances_cls)[::-1]\n",
    "\n",
    "plt.figure(figsize=(10,6))\n",
    "plt.title(\"🌳 Feature Importance - Phân loại\")\n",
    "plt.bar(range(len(importances_cls)), importances_cls[indices_cls], align='center')\n",
    "plt.xticks(range(len(importances_cls)), feature_names[indices_cls], rotation=90)\n",
    "plt.tight_layout()\n",
    "plt.show()\n",
    "\n",
    "# Hồi quy - Feature Importance\n",
    "importances_reg = rf_reg.feature_importances_\n",
    "indices_reg = np.argsort(importances_reg)[::-1]\n",
    "\n",
    "plt.figure(figsize=(10,6))\n",
    "plt.title(\"🌲 Feature Importance - Hồi quy\")\n",
    "plt.bar(range(len(importances_reg)), importances_reg[indices_reg], align='center')\n",
    "plt.xticks(range(len(importances_reg)), feature_names[indices_reg], rotation=90)\n",
    "plt.tight_layout()\n",
    "plt.show()\n"
   ]
  }
 ],
 "metadata": {
  "kernelspec": {
   "display_name": "Python 3",
   "language": "python",
   "name": "python3"
  },
  "language_info": {
   "codemirror_mode": {
    "name": "ipython",
    "version": 3
   },
   "file_extension": ".py",
   "mimetype": "text/x-python",
   "name": "python",
   "nbconvert_exporter": "python",
   "pygments_lexer": "ipython3",
   "version": "3.9.8"
  }
 },
 "nbformat": 4,
 "nbformat_minor": 5
}
